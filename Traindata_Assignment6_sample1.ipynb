{
  "nbformat": 4,
  "nbformat_minor": 0,
  "metadata": {
    "colab": {
      "name": "Traindata Assignment6 sample1.ipynb",
      "provenance": [],
      "collapsed_sections": []
    },
    "kernelspec": {
      "name": "python3",
      "display_name": "Python 3"
    },
    "language_info": {
      "name": "python"
    }
  },
  "cells": [
    {
      "cell_type": "code",
      "source": [
        "from google.colab import files\n",
        "uploaded = files.upload()"
      ],
      "metadata": {
        "colab": {
          "resources": {
            "http://localhost:8080/nbextensions/google.colab/files.js": {
              "data": "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",
              "ok": true,
              "headers": [
                [
                  "content-type",
                  "application/javascript"
                ]
              ],
              "status": 200,
              "status_text": ""
            }
          },
          "base_uri": "https://localhost:8080/",
          "height": 74
        },
        "id": "ahCuDe2gZkVV",
        "outputId": "c5e6c6c1-965b-4c52-9c8e-020e9e9c9f3d"
      },
      "execution_count": 51,
      "outputs": [
        {
          "output_type": "display_data",
          "data": {
            "text/plain": [
              "<IPython.core.display.HTML object>"
            ],
            "text/html": [
              "\n",
              "     <input type=\"file\" id=\"files-4a5b641d-c0c0-4c63-ac10-f0418646c5be\" name=\"files[]\" multiple disabled\n",
              "        style=\"border:none\" />\n",
              "     <output id=\"result-4a5b641d-c0c0-4c63-ac10-f0418646c5be\">\n",
              "      Upload widget is only available when the cell has been executed in the\n",
              "      current browser session. Please rerun this cell to enable.\n",
              "      </output>\n",
              "      <script src=\"/nbextensions/google.colab/files.js\"></script> "
            ]
          },
          "metadata": {}
        },
        {
          "output_type": "stream",
          "name": "stdout",
          "text": [
            "Saving trn.csv to trn.csv\n"
          ]
        }
      ]
    },
    {
      "cell_type": "code",
      "source": [
        "import numpy as np\n",
        "import pandas as pd"
      ],
      "metadata": {
        "id": "gWJ4qJbtZ87Q"
      },
      "execution_count": 52,
      "outputs": []
    },
    {
      "cell_type": "code",
      "source": [
        "traindata=pd.read_csv('trn.csv')"
      ],
      "metadata": {
        "id": "xqGUFfklZ6-0"
      },
      "execution_count": 53,
      "outputs": []
    },
    {
      "cell_type": "code",
      "source": [
        "traindata.head()"
      ],
      "metadata": {
        "colab": {
          "base_uri": "https://localhost:8080/",
          "height": 206
        },
        "id": "LddvPa2NaOvl",
        "outputId": "9e09905b-db91-4c59-e741-222280f8e107"
      },
      "execution_count": 54,
      "outputs": [
        {
          "output_type": "execute_result",
          "data": {
            "text/plain": [
              "   PassengerId  Survived  Pclass  \\\n",
              "0            1         0       3   \n",
              "1            2         1       1   \n",
              "2            3         1       3   \n",
              "3            4         1       1   \n",
              "4            5         0       3   \n",
              "\n",
              "                                                Name     Sex   Age  SibSp  \\\n",
              "0                            Braund, Mr. Owen Harris    male  22.0      1   \n",
              "1  Cumings, Mrs. John Bradley (Florence Briggs Th...  female  38.0      1   \n",
              "2                             Heikkinen, Miss. Laina  female  26.0      0   \n",
              "3       Futrelle, Mrs. Jacques Heath (Lily May Peel)  female  35.0      1   \n",
              "4                           Allen, Mr. William Henry    male  35.0      0   \n",
              "\n",
              "   Parch            Ticket     Fare Cabin Embarked  \n",
              "0      0         A/5 21171   7.2500   NaN        S  \n",
              "1      0          PC 17599  71.2833   C85        C  \n",
              "2      0  STON/O2. 3101282   7.9250   NaN        S  \n",
              "3      0            113803  53.1000  C123        S  \n",
              "4      0            373450   8.0500   NaN        S  "
            ],
            "text/html": [
              "\n",
              "  <div id=\"df-fe468d1c-7c8f-4ea6-8815-2b03b10ce291\">\n",
              "    <div class=\"colab-df-container\">\n",
              "      <div>\n",
              "<style scoped>\n",
              "    .dataframe tbody tr th:only-of-type {\n",
              "        vertical-align: middle;\n",
              "    }\n",
              "\n",
              "    .dataframe tbody tr th {\n",
              "        vertical-align: top;\n",
              "    }\n",
              "\n",
              "    .dataframe thead th {\n",
              "        text-align: right;\n",
              "    }\n",
              "</style>\n",
              "<table border=\"1\" class=\"dataframe\">\n",
              "  <thead>\n",
              "    <tr style=\"text-align: right;\">\n",
              "      <th></th>\n",
              "      <th>PassengerId</th>\n",
              "      <th>Survived</th>\n",
              "      <th>Pclass</th>\n",
              "      <th>Name</th>\n",
              "      <th>Sex</th>\n",
              "      <th>Age</th>\n",
              "      <th>SibSp</th>\n",
              "      <th>Parch</th>\n",
              "      <th>Ticket</th>\n",
              "      <th>Fare</th>\n",
              "      <th>Cabin</th>\n",
              "      <th>Embarked</th>\n",
              "    </tr>\n",
              "  </thead>\n",
              "  <tbody>\n",
              "    <tr>\n",
              "      <th>0</th>\n",
              "      <td>1</td>\n",
              "      <td>0</td>\n",
              "      <td>3</td>\n",
              "      <td>Braund, Mr. Owen Harris</td>\n",
              "      <td>male</td>\n",
              "      <td>22.0</td>\n",
              "      <td>1</td>\n",
              "      <td>0</td>\n",
              "      <td>A/5 21171</td>\n",
              "      <td>7.2500</td>\n",
              "      <td>NaN</td>\n",
              "      <td>S</td>\n",
              "    </tr>\n",
              "    <tr>\n",
              "      <th>1</th>\n",
              "      <td>2</td>\n",
              "      <td>1</td>\n",
              "      <td>1</td>\n",
              "      <td>Cumings, Mrs. John Bradley (Florence Briggs Th...</td>\n",
              "      <td>female</td>\n",
              "      <td>38.0</td>\n",
              "      <td>1</td>\n",
              "      <td>0</td>\n",
              "      <td>PC 17599</td>\n",
              "      <td>71.2833</td>\n",
              "      <td>C85</td>\n",
              "      <td>C</td>\n",
              "    </tr>\n",
              "    <tr>\n",
              "      <th>2</th>\n",
              "      <td>3</td>\n",
              "      <td>1</td>\n",
              "      <td>3</td>\n",
              "      <td>Heikkinen, Miss. Laina</td>\n",
              "      <td>female</td>\n",
              "      <td>26.0</td>\n",
              "      <td>0</td>\n",
              "      <td>0</td>\n",
              "      <td>STON/O2. 3101282</td>\n",
              "      <td>7.9250</td>\n",
              "      <td>NaN</td>\n",
              "      <td>S</td>\n",
              "    </tr>\n",
              "    <tr>\n",
              "      <th>3</th>\n",
              "      <td>4</td>\n",
              "      <td>1</td>\n",
              "      <td>1</td>\n",
              "      <td>Futrelle, Mrs. Jacques Heath (Lily May Peel)</td>\n",
              "      <td>female</td>\n",
              "      <td>35.0</td>\n",
              "      <td>1</td>\n",
              "      <td>0</td>\n",
              "      <td>113803</td>\n",
              "      <td>53.1000</td>\n",
              "      <td>C123</td>\n",
              "      <td>S</td>\n",
              "    </tr>\n",
              "    <tr>\n",
              "      <th>4</th>\n",
              "      <td>5</td>\n",
              "      <td>0</td>\n",
              "      <td>3</td>\n",
              "      <td>Allen, Mr. William Henry</td>\n",
              "      <td>male</td>\n",
              "      <td>35.0</td>\n",
              "      <td>0</td>\n",
              "      <td>0</td>\n",
              "      <td>373450</td>\n",
              "      <td>8.0500</td>\n",
              "      <td>NaN</td>\n",
              "      <td>S</td>\n",
              "    </tr>\n",
              "  </tbody>\n",
              "</table>\n",
              "</div>\n",
              "      <button class=\"colab-df-convert\" onclick=\"convertToInteractive('df-fe468d1c-7c8f-4ea6-8815-2b03b10ce291')\"\n",
              "              title=\"Convert this dataframe to an interactive table.\"\n",
              "              style=\"display:none;\">\n",
              "        \n",
              "  <svg xmlns=\"http://www.w3.org/2000/svg\" height=\"24px\"viewBox=\"0 0 24 24\"\n",
              "       width=\"24px\">\n",
              "    <path d=\"M0 0h24v24H0V0z\" fill=\"none\"/>\n",
              "    <path d=\"M18.56 5.44l.94 2.06.94-2.06 2.06-.94-2.06-.94-.94-2.06-.94 2.06-2.06.94zm-11 1L8.5 8.5l.94-2.06 2.06-.94-2.06-.94L8.5 2.5l-.94 2.06-2.06.94zm10 10l.94 2.06.94-2.06 2.06-.94-2.06-.94-.94-2.06-.94 2.06-2.06.94z\"/><path d=\"M17.41 7.96l-1.37-1.37c-.4-.4-.92-.59-1.43-.59-.52 0-1.04.2-1.43.59L10.3 9.45l-7.72 7.72c-.78.78-.78 2.05 0 2.83L4 21.41c.39.39.9.59 1.41.59.51 0 1.02-.2 1.41-.59l7.78-7.78 2.81-2.81c.8-.78.8-2.07 0-2.86zM5.41 20L4 18.59l7.72-7.72 1.47 1.35L5.41 20z\"/>\n",
              "  </svg>\n",
              "      </button>\n",
              "      \n",
              "  <style>\n",
              "    .colab-df-container {\n",
              "      display:flex;\n",
              "      flex-wrap:wrap;\n",
              "      gap: 12px;\n",
              "    }\n",
              "\n",
              "    .colab-df-convert {\n",
              "      background-color: #E8F0FE;\n",
              "      border: none;\n",
              "      border-radius: 50%;\n",
              "      cursor: pointer;\n",
              "      display: none;\n",
              "      fill: #1967D2;\n",
              "      height: 32px;\n",
              "      padding: 0 0 0 0;\n",
              "      width: 32px;\n",
              "    }\n",
              "\n",
              "    .colab-df-convert:hover {\n",
              "      background-color: #E2EBFA;\n",
              "      box-shadow: 0px 1px 2px rgba(60, 64, 67, 0.3), 0px 1px 3px 1px rgba(60, 64, 67, 0.15);\n",
              "      fill: #174EA6;\n",
              "    }\n",
              "\n",
              "    [theme=dark] .colab-df-convert {\n",
              "      background-color: #3B4455;\n",
              "      fill: #D2E3FC;\n",
              "    }\n",
              "\n",
              "    [theme=dark] .colab-df-convert:hover {\n",
              "      background-color: #434B5C;\n",
              "      box-shadow: 0px 1px 3px 1px rgba(0, 0, 0, 0.15);\n",
              "      filter: drop-shadow(0px 1px 2px rgba(0, 0, 0, 0.3));\n",
              "      fill: #FFFFFF;\n",
              "    }\n",
              "  </style>\n",
              "\n",
              "      <script>\n",
              "        const buttonEl =\n",
              "          document.querySelector('#df-fe468d1c-7c8f-4ea6-8815-2b03b10ce291 button.colab-df-convert');\n",
              "        buttonEl.style.display =\n",
              "          google.colab.kernel.accessAllowed ? 'block' : 'none';\n",
              "\n",
              "        async function convertToInteractive(key) {\n",
              "          const element = document.querySelector('#df-fe468d1c-7c8f-4ea6-8815-2b03b10ce291');\n",
              "          const dataTable =\n",
              "            await google.colab.kernel.invokeFunction('convertToInteractive',\n",
              "                                                     [key], {});\n",
              "          if (!dataTable) return;\n",
              "\n",
              "          const docLinkHtml = 'Like what you see? Visit the ' +\n",
              "            '<a target=\"_blank\" href=https://colab.research.google.com/notebooks/data_table.ipynb>data table notebook</a>'\n",
              "            + ' to learn more about interactive tables.';\n",
              "          element.innerHTML = '';\n",
              "          dataTable['output_type'] = 'display_data';\n",
              "          await google.colab.output.renderOutput(dataTable, element);\n",
              "          const docLink = document.createElement('div');\n",
              "          docLink.innerHTML = docLinkHtml;\n",
              "          element.appendChild(docLink);\n",
              "        }\n",
              "      </script>\n",
              "    </div>\n",
              "  </div>\n",
              "  "
            ]
          },
          "metadata": {},
          "execution_count": 54
        }
      ]
    },
    {
      "cell_type": "code",
      "source": [
        "traindata.shape"
      ],
      "metadata": {
        "colab": {
          "base_uri": "https://localhost:8080/"
        },
        "id": "4JzZioDTdLWN",
        "outputId": "648e50af-e7c4-4326-9612-80b8582217d3"
      },
      "execution_count": 55,
      "outputs": [
        {
          "output_type": "execute_result",
          "data": {
            "text/plain": [
              "(891, 12)"
            ]
          },
          "metadata": {},
          "execution_count": 55
        }
      ]
    },
    {
      "cell_type": "code",
      "source": [
        "traindata.info()"
      ],
      "metadata": {
        "colab": {
          "base_uri": "https://localhost:8080/"
        },
        "id": "HRxDqZuXeQSu",
        "outputId": "f3729f83-41c0-4c87-d41d-3646cd8196ba"
      },
      "execution_count": 56,
      "outputs": [
        {
          "output_type": "stream",
          "name": "stdout",
          "text": [
            "<class 'pandas.core.frame.DataFrame'>\n",
            "RangeIndex: 891 entries, 0 to 890\n",
            "Data columns (total 12 columns):\n",
            " #   Column       Non-Null Count  Dtype  \n",
            "---  ------       --------------  -----  \n",
            " 0   PassengerId  891 non-null    int64  \n",
            " 1   Survived     891 non-null    int64  \n",
            " 2   Pclass       891 non-null    int64  \n",
            " 3   Name         891 non-null    object \n",
            " 4   Sex          891 non-null    object \n",
            " 5   Age          714 non-null    float64\n",
            " 6   SibSp        891 non-null    int64  \n",
            " 7   Parch        891 non-null    int64  \n",
            " 8   Ticket       891 non-null    object \n",
            " 9   Fare         891 non-null    float64\n",
            " 10  Cabin        204 non-null    object \n",
            " 11  Embarked     889 non-null    object \n",
            "dtypes: float64(2), int64(5), object(5)\n",
            "memory usage: 83.7+ KB\n"
          ]
        }
      ]
    },
    {
      "cell_type": "code",
      "source": [
        "traindata.describe()"
      ],
      "metadata": {
        "colab": {
          "base_uri": "https://localhost:8080/",
          "height": 300
        },
        "id": "w9mM081liDLb",
        "outputId": "3d04c251-01af-4476-e5bb-e4d4e06dbb8c"
      },
      "execution_count": 57,
      "outputs": [
        {
          "output_type": "execute_result",
          "data": {
            "text/plain": [
              "       PassengerId    Survived      Pclass         Age       SibSp  \\\n",
              "count   891.000000  891.000000  891.000000  714.000000  891.000000   \n",
              "mean    446.000000    0.383838    2.308642   29.699118    0.523008   \n",
              "std     257.353842    0.486592    0.836071   14.526497    1.102743   \n",
              "min       1.000000    0.000000    1.000000    0.420000    0.000000   \n",
              "25%     223.500000    0.000000    2.000000   20.125000    0.000000   \n",
              "50%     446.000000    0.000000    3.000000   28.000000    0.000000   \n",
              "75%     668.500000    1.000000    3.000000   38.000000    1.000000   \n",
              "max     891.000000    1.000000    3.000000   80.000000    8.000000   \n",
              "\n",
              "            Parch        Fare  \n",
              "count  891.000000  891.000000  \n",
              "mean     0.381594   32.204208  \n",
              "std      0.806057   49.693429  \n",
              "min      0.000000    0.000000  \n",
              "25%      0.000000    7.910400  \n",
              "50%      0.000000   14.454200  \n",
              "75%      0.000000   31.000000  \n",
              "max      6.000000  512.329200  "
            ],
            "text/html": [
              "\n",
              "  <div id=\"df-d4bf77d5-5b7c-4426-a570-ed8daca207a6\">\n",
              "    <div class=\"colab-df-container\">\n",
              "      <div>\n",
              "<style scoped>\n",
              "    .dataframe tbody tr th:only-of-type {\n",
              "        vertical-align: middle;\n",
              "    }\n",
              "\n",
              "    .dataframe tbody tr th {\n",
              "        vertical-align: top;\n",
              "    }\n",
              "\n",
              "    .dataframe thead th {\n",
              "        text-align: right;\n",
              "    }\n",
              "</style>\n",
              "<table border=\"1\" class=\"dataframe\">\n",
              "  <thead>\n",
              "    <tr style=\"text-align: right;\">\n",
              "      <th></th>\n",
              "      <th>PassengerId</th>\n",
              "      <th>Survived</th>\n",
              "      <th>Pclass</th>\n",
              "      <th>Age</th>\n",
              "      <th>SibSp</th>\n",
              "      <th>Parch</th>\n",
              "      <th>Fare</th>\n",
              "    </tr>\n",
              "  </thead>\n",
              "  <tbody>\n",
              "    <tr>\n",
              "      <th>count</th>\n",
              "      <td>891.000000</td>\n",
              "      <td>891.000000</td>\n",
              "      <td>891.000000</td>\n",
              "      <td>714.000000</td>\n",
              "      <td>891.000000</td>\n",
              "      <td>891.000000</td>\n",
              "      <td>891.000000</td>\n",
              "    </tr>\n",
              "    <tr>\n",
              "      <th>mean</th>\n",
              "      <td>446.000000</td>\n",
              "      <td>0.383838</td>\n",
              "      <td>2.308642</td>\n",
              "      <td>29.699118</td>\n",
              "      <td>0.523008</td>\n",
              "      <td>0.381594</td>\n",
              "      <td>32.204208</td>\n",
              "    </tr>\n",
              "    <tr>\n",
              "      <th>std</th>\n",
              "      <td>257.353842</td>\n",
              "      <td>0.486592</td>\n",
              "      <td>0.836071</td>\n",
              "      <td>14.526497</td>\n",
              "      <td>1.102743</td>\n",
              "      <td>0.806057</td>\n",
              "      <td>49.693429</td>\n",
              "    </tr>\n",
              "    <tr>\n",
              "      <th>min</th>\n",
              "      <td>1.000000</td>\n",
              "      <td>0.000000</td>\n",
              "      <td>1.000000</td>\n",
              "      <td>0.420000</td>\n",
              "      <td>0.000000</td>\n",
              "      <td>0.000000</td>\n",
              "      <td>0.000000</td>\n",
              "    </tr>\n",
              "    <tr>\n",
              "      <th>25%</th>\n",
              "      <td>223.500000</td>\n",
              "      <td>0.000000</td>\n",
              "      <td>2.000000</td>\n",
              "      <td>20.125000</td>\n",
              "      <td>0.000000</td>\n",
              "      <td>0.000000</td>\n",
              "      <td>7.910400</td>\n",
              "    </tr>\n",
              "    <tr>\n",
              "      <th>50%</th>\n",
              "      <td>446.000000</td>\n",
              "      <td>0.000000</td>\n",
              "      <td>3.000000</td>\n",
              "      <td>28.000000</td>\n",
              "      <td>0.000000</td>\n",
              "      <td>0.000000</td>\n",
              "      <td>14.454200</td>\n",
              "    </tr>\n",
              "    <tr>\n",
              "      <th>75%</th>\n",
              "      <td>668.500000</td>\n",
              "      <td>1.000000</td>\n",
              "      <td>3.000000</td>\n",
              "      <td>38.000000</td>\n",
              "      <td>1.000000</td>\n",
              "      <td>0.000000</td>\n",
              "      <td>31.000000</td>\n",
              "    </tr>\n",
              "    <tr>\n",
              "      <th>max</th>\n",
              "      <td>891.000000</td>\n",
              "      <td>1.000000</td>\n",
              "      <td>3.000000</td>\n",
              "      <td>80.000000</td>\n",
              "      <td>8.000000</td>\n",
              "      <td>6.000000</td>\n",
              "      <td>512.329200</td>\n",
              "    </tr>\n",
              "  </tbody>\n",
              "</table>\n",
              "</div>\n",
              "      <button class=\"colab-df-convert\" onclick=\"convertToInteractive('df-d4bf77d5-5b7c-4426-a570-ed8daca207a6')\"\n",
              "              title=\"Convert this dataframe to an interactive table.\"\n",
              "              style=\"display:none;\">\n",
              "        \n",
              "  <svg xmlns=\"http://www.w3.org/2000/svg\" height=\"24px\"viewBox=\"0 0 24 24\"\n",
              "       width=\"24px\">\n",
              "    <path d=\"M0 0h24v24H0V0z\" fill=\"none\"/>\n",
              "    <path d=\"M18.56 5.44l.94 2.06.94-2.06 2.06-.94-2.06-.94-.94-2.06-.94 2.06-2.06.94zm-11 1L8.5 8.5l.94-2.06 2.06-.94-2.06-.94L8.5 2.5l-.94 2.06-2.06.94zm10 10l.94 2.06.94-2.06 2.06-.94-2.06-.94-.94-2.06-.94 2.06-2.06.94z\"/><path d=\"M17.41 7.96l-1.37-1.37c-.4-.4-.92-.59-1.43-.59-.52 0-1.04.2-1.43.59L10.3 9.45l-7.72 7.72c-.78.78-.78 2.05 0 2.83L4 21.41c.39.39.9.59 1.41.59.51 0 1.02-.2 1.41-.59l7.78-7.78 2.81-2.81c.8-.78.8-2.07 0-2.86zM5.41 20L4 18.59l7.72-7.72 1.47 1.35L5.41 20z\"/>\n",
              "  </svg>\n",
              "      </button>\n",
              "      \n",
              "  <style>\n",
              "    .colab-df-container {\n",
              "      display:flex;\n",
              "      flex-wrap:wrap;\n",
              "      gap: 12px;\n",
              "    }\n",
              "\n",
              "    .colab-df-convert {\n",
              "      background-color: #E8F0FE;\n",
              "      border: none;\n",
              "      border-radius: 50%;\n",
              "      cursor: pointer;\n",
              "      display: none;\n",
              "      fill: #1967D2;\n",
              "      height: 32px;\n",
              "      padding: 0 0 0 0;\n",
              "      width: 32px;\n",
              "    }\n",
              "\n",
              "    .colab-df-convert:hover {\n",
              "      background-color: #E2EBFA;\n",
              "      box-shadow: 0px 1px 2px rgba(60, 64, 67, 0.3), 0px 1px 3px 1px rgba(60, 64, 67, 0.15);\n",
              "      fill: #174EA6;\n",
              "    }\n",
              "\n",
              "    [theme=dark] .colab-df-convert {\n",
              "      background-color: #3B4455;\n",
              "      fill: #D2E3FC;\n",
              "    }\n",
              "\n",
              "    [theme=dark] .colab-df-convert:hover {\n",
              "      background-color: #434B5C;\n",
              "      box-shadow: 0px 1px 3px 1px rgba(0, 0, 0, 0.15);\n",
              "      filter: drop-shadow(0px 1px 2px rgba(0, 0, 0, 0.3));\n",
              "      fill: #FFFFFF;\n",
              "    }\n",
              "  </style>\n",
              "\n",
              "      <script>\n",
              "        const buttonEl =\n",
              "          document.querySelector('#df-d4bf77d5-5b7c-4426-a570-ed8daca207a6 button.colab-df-convert');\n",
              "        buttonEl.style.display =\n",
              "          google.colab.kernel.accessAllowed ? 'block' : 'none';\n",
              "\n",
              "        async function convertToInteractive(key) {\n",
              "          const element = document.querySelector('#df-d4bf77d5-5b7c-4426-a570-ed8daca207a6');\n",
              "          const dataTable =\n",
              "            await google.colab.kernel.invokeFunction('convertToInteractive',\n",
              "                                                     [key], {});\n",
              "          if (!dataTable) return;\n",
              "\n",
              "          const docLinkHtml = 'Like what you see? Visit the ' +\n",
              "            '<a target=\"_blank\" href=https://colab.research.google.com/notebooks/data_table.ipynb>data table notebook</a>'\n",
              "            + ' to learn more about interactive tables.';\n",
              "          element.innerHTML = '';\n",
              "          dataTable['output_type'] = 'display_data';\n",
              "          await google.colab.output.renderOutput(dataTable, element);\n",
              "          const docLink = document.createElement('div');\n",
              "          docLink.innerHTML = docLinkHtml;\n",
              "          element.appendChild(docLink);\n",
              "        }\n",
              "      </script>\n",
              "    </div>\n",
              "  </div>\n",
              "  "
            ]
          },
          "metadata": {},
          "execution_count": 57
        }
      ]
    },
    {
      "cell_type": "code",
      "source": [
        "import seaborn as sns\n",
        "import matplotlib.pyplot as plt"
      ],
      "metadata": {
        "id": "lsvUl6ZVkLER"
      },
      "execution_count": 64,
      "outputs": []
    },
    {
      "cell_type": "code",
      "source": [
        "traindata.isnull().sum()\n"
      ],
      "metadata": {
        "colab": {
          "base_uri": "https://localhost:8080/"
        },
        "id": "EyjuL0Gni7Uo",
        "outputId": "8cd610cc-0d4f-4d14-eeb1-6f8ec1a1fa26"
      },
      "execution_count": 58,
      "outputs": [
        {
          "output_type": "execute_result",
          "data": {
            "text/plain": [
              "PassengerId      0\n",
              "Survived         0\n",
              "Pclass           0\n",
              "Name             0\n",
              "Sex              0\n",
              "Age            177\n",
              "SibSp            0\n",
              "Parch            0\n",
              "Ticket           0\n",
              "Fare             0\n",
              "Cabin          687\n",
              "Embarked         2\n",
              "dtype: int64"
            ]
          },
          "metadata": {},
          "execution_count": 58
        }
      ]
    },
    {
      "cell_type": "code",
      "source": [
        "missingvalues = traindata.columns[traindata.isna().any()].tolist()\n",
        "missingvaluesnumbers = traindata[missingvalues].isna().sum()\n",
        "\n",
        "sns.barplot(y=missingvaluesnumbers, x=missingvalues, palette='gnuplot')\n",
        "plt.show()\n",
        "print( (missingvaluesnumbers))"
      ],
      "metadata": {
        "colab": {
          "base_uri": "https://localhost:8080/",
          "height": 334
        },
        "id": "rtL_U_wSlwQY",
        "outputId": "77c2aaf5-b0ac-4e8d-896a-1744a3decc10"
      },
      "execution_count": 68,
      "outputs": [
        {
          "output_type": "display_data",
          "data": {
            "text/plain": [
              "<Figure size 432x288 with 1 Axes>"
            ],
            "image/png": "[encoded data removed]"
          },
          "metadata": {
            "needs_background": "light"
          }
        },
        {
          "output_type": "stream",
          "name": "stdout",
          "text": [
            "Age         177\n",
            "Cabin       687\n",
            "Embarked      2\n",
            "dtype: int64\n"
          ]
        }
      ]
    },
    {
      "cell_type": "code",
      "source": [
        "traindata['Sex']=traindata['Sex'].map({\"male\":'1',\"female\":\"0\"})\n",
        "traindata.head()\n",
        "#male value equals 1\n",
        "#female value equals 0"
      ],
      "metadata": {
        "colab": {
          "base_uri": "https://localhost:8080/",
          "height": 206
        },
        "id": "yESl0w5UN_1t",
        "outputId": "5e8e5dea-02ab-4ee4-9e06-567e0fe5ad1f"
      },
      "execution_count": 136,
      "outputs": [
        {
          "output_type": "execute_result",
          "data": {
            "text/plain": [
              "   PassengerId  Survived  Pclass  \\\n",
              "0            1         0       3   \n",
              "1            2         1       1   \n",
              "2            3         1       3   \n",
              "3            4         1       1   \n",
              "4            5         0       3   \n",
              "\n",
              "                                                Name Sex   Age  SibSp  Parch  \\\n",
              "0                            Braund, Mr. Owen Harris   1  22.0      1      0   \n",
              "1  Cumings, Mrs. John Bradley (Florence Briggs Th...   0  38.0      1      0   \n",
              "2                             Heikkinen, Miss. Laina   0  26.0      0      0   \n",
              "3       Futrelle, Mrs. Jacques Heath (Lily May Peel)   0  35.0      1      0   \n",
              "4                           Allen, Mr. William Henry   1  35.0      0      0   \n",
              "\n",
              "             Ticket     Fare Cabin Embarked  \n",
              "0         A/5 21171   7.2500   NaN        S  \n",
              "1          PC 17599  71.2833   C85        C  \n",
              "2  STON/O2. 3101282   7.9250   NaN        S  \n",
              "3            113803  53.1000  C123        S  \n",
              "4            373450   8.0500   NaN        S  "
            ],
            "text/html": [
              "\n",
              "  <div id=\"df-48d2479d-ffbd-48a5-a810-7614925c6e20\">\n",
              "    <div class=\"colab-df-container\">\n",
              "      <div>\n",
              "<style scoped>\n",
              "    .dataframe tbody tr th:only-of-type {\n",
              "        vertical-align: middle;\n",
              "    }\n",
              "\n",
              "    .dataframe tbody tr th {\n",
              "        vertical-align: top;\n",
              "    }\n",
              "\n",
              "    .dataframe thead th {\n",
              "        text-align: right;\n",
              "    }\n",
              "</style>\n",
              "<table border=\"1\" class=\"dataframe\">\n",
              "  <thead>\n",
              "    <tr style=\"text-align: right;\">\n",
              "      <th></th>\n",
              "      <th>PassengerId</th>\n",
              "      <th>Survived</th>\n",
              "      <th>Pclass</th>\n",
              "      <th>Name</th>\n",
              "      <th>Sex</th>\n",
              "      <th>Age</th>\n",
              "      <th>SibSp</th>\n",
              "      <th>Parch</th>\n",
              "      <th>Ticket</th>\n",
              "      <th>Fare</th>\n",
              "      <th>Cabin</th>\n",
              "      <th>Embarked</th>\n",
              "    </tr>\n",
              "  </thead>\n",
              "  <tbody>\n",
              "    <tr>\n",
              "      <th>0</th>\n",
              "      <td>1</td>\n",
              "      <td>0</td>\n",
              "      <td>3</td>\n",
              "      <td>Braund, Mr. Owen Harris</td>\n",
              "      <td>1</td>\n",
              "      <td>22.0</td>\n",
              "      <td>1</td>\n",
              "      <td>0</td>\n",
              "      <td>A/5 21171</td>\n",
              "      <td>7.2500</td>\n",
              "      <td>NaN</td>\n",
              "      <td>S</td>\n",
              "    </tr>\n",
              "    <tr>\n",
              "      <th>1</th>\n",
              "      <td>2</td>\n",
              "      <td>1</td>\n",
              "      <td>1</td>\n",
              "      <td>Cumings, Mrs. John Bradley (Florence Briggs Th...</td>\n",
              "      <td>0</td>\n",
              "      <td>38.0</td>\n",
              "      <td>1</td>\n",
              "      <td>0</td>\n",
              "      <td>PC 17599</td>\n",
              "      <td>71.2833</td>\n",
              "      <td>C85</td>\n",
              "      <td>C</td>\n",
              "    </tr>\n",
              "    <tr>\n",
              "      <th>2</th>\n",
              "      <td>3</td>\n",
              "      <td>1</td>\n",
              "      <td>3</td>\n",
              "      <td>Heikkinen, Miss. Laina</td>\n",
              "      <td>0</td>\n",
              "      <td>26.0</td>\n",
              "      <td>0</td>\n",
              "      <td>0</td>\n",
              "      <td>STON/O2. 3101282</td>\n",
              "      <td>7.9250</td>\n",
              "      <td>NaN</td>\n",
              "      <td>S</td>\n",
              "    </tr>\n",
              "    <tr>\n",
              "      <th>3</th>\n",
              "      <td>4</td>\n",
              "      <td>1</td>\n",
              "      <td>1</td>\n",
              "      <td>Futrelle, Mrs. Jacques Heath (Lily May Peel)</td>\n",
              "      <td>0</td>\n",
              "      <td>35.0</td>\n",
              "      <td>1</td>\n",
              "      <td>0</td>\n",
              "      <td>113803</td>\n",
              "      <td>53.1000</td>\n",
              "      <td>C123</td>\n",
              "      <td>S</td>\n",
              "    </tr>\n",
              "    <tr>\n",
              "      <th>4</th>\n",
              "      <td>5</td>\n",
              "      <td>0</td>\n",
              "      <td>3</td>\n",
              "      <td>Allen, Mr. William Henry</td>\n",
              "      <td>1</td>\n",
              "      <td>35.0</td>\n",
              "      <td>0</td>\n",
              "      <td>0</td>\n",
              "      <td>373450</td>\n",
              "      <td>8.0500</td>\n",
              "      <td>NaN</td>\n",
              "      <td>S</td>\n",
              "    </tr>\n",
              "  </tbody>\n",
              "</table>\n",
              "</div>\n",
              "      <button class=\"colab-df-convert\" onclick=\"convertToInteractive('df-48d2479d-ffbd-48a5-a810-7614925c6e20')\"\n",
              "              title=\"Convert this dataframe to an interactive table.\"\n",
              "              style=\"display:none;\">\n",
              "        \n",
              "  <svg xmlns=\"http://www.w3.org/2000/svg\" height=\"24px\"viewBox=\"0 0 24 24\"\n",
              "       width=\"24px\">\n",
              "    <path d=\"M0 0h24v24H0V0z\" fill=\"none\"/>\n",
              "    <path d=\"M18.56 5.44l.94 2.06.94-2.06 2.06-.94-2.06-.94-.94-2.06-.94 2.06-2.06.94zm-11 1L8.5 8.5l.94-2.06 2.06-.94-2.06-.94L8.5 2.5l-.94 2.06-2.06.94zm10 10l.94 2.06.94-2.06 2.06-.94-2.06-.94-.94-2.06-.94 2.06-2.06.94z\"/><path d=\"M17.41 7.96l-1.37-1.37c-.4-.4-.92-.59-1.43-.59-.52 0-1.04.2-1.43.59L10.3 9.45l-7.72 7.72c-.78.78-.78 2.05 0 2.83L4 21.41c.39.39.9.59 1.41.59.51 0 1.02-.2 1.41-.59l7.78-7.78 2.81-2.81c.8-.78.8-2.07 0-2.86zM5.41 20L4 18.59l7.72-7.72 1.47 1.35L5.41 20z\"/>\n",
              "  </svg>\n",
              "      </button>\n",
              "      \n",
              "  <style>\n",
              "    .colab-df-container {\n",
              "      display:flex;\n",
              "      flex-wrap:wrap;\n",
              "      gap: 12px;\n",
              "    }\n",
              "\n",
              "    .colab-df-convert {\n",
              "      background-color: #E8F0FE;\n",
              "      border: none;\n",
              "      border-radius: 50%;\n",
              "      cursor: pointer;\n",
              "      display: none;\n",
              "      fill: #1967D2;\n",
              "      height: 32px;\n",
              "      padding: 0 0 0 0;\n",
              "      width: 32px;\n",
              "    }\n",
              "\n",
              "    .colab-df-convert:hover {\n",
              "      background-color: #E2EBFA;\n",
              "      box-shadow: 0px 1px 2px rgba(60, 64, 67, 0.3), 0px 1px 3px 1px rgba(60, 64, 67, 0.15);\n",
              "      fill: #174EA6;\n",
              "    }\n",
              "\n",
              "    [theme=dark] .colab-df-convert {\n",
              "      background-color: #3B4455;\n",
              "      fill: #D2E3FC;\n",
              "    }\n",
              "\n",
              "    [theme=dark] .colab-df-convert:hover {\n",
              "      background-color: #434B5C;\n",
              "      box-shadow: 0px 1px 3px 1px rgba(0, 0, 0, 0.15);\n",
              "      filter: drop-shadow(0px 1px 2px rgba(0, 0, 0, 0.3));\n",
              "      fill: #FFFFFF;\n",
              "    }\n",
              "  </style>\n",
              "\n",
              "      <script>\n",
              "        const buttonEl =\n",
              "          document.querySelector('#df-48d2479d-ffbd-48a5-a810-7614925c6e20 button.colab-df-convert');\n",
              "        buttonEl.style.display =\n",
              "          google.colab.kernel.accessAllowed ? 'block' : 'none';\n",
              "\n",
              "        async function convertToInteractive(key) {\n",
              "          const element = document.querySelector('#df-48d2479d-ffbd-48a5-a810-7614925c6e20');\n",
              "          const dataTable =\n",
              "            await google.colab.kernel.invokeFunction('convertToInteractive',\n",
              "                                                     [key], {});\n",
              "          if (!dataTable) return;\n",
              "\n",
              "          const docLinkHtml = 'Like what you see? Visit the ' +\n",
              "            '<a target=\"_blank\" href=https://colab.research.google.com/notebooks/data_table.ipynb>data table notebook</a>'\n",
              "            + ' to learn more about interactive tables.';\n",
              "          element.innerHTML = '';\n",
              "          dataTable['output_type'] = 'display_data';\n",
              "          await google.colab.output.renderOutput(dataTable, element);\n",
              "          const docLink = document.createElement('div');\n",
              "          docLink.innerHTML = docLinkHtml;\n",
              "          element.appendChild(docLink);\n",
              "        }\n",
              "      </script>\n",
              "    </div>\n",
              "  </div>\n",
              "  "
            ]
          },
          "metadata": {},
          "execution_count": 136
        }
      ]
    },
    {
      "cell_type": "code",
      "source": [
        "traindata[\"Sex\"] =traindata[\"Sex\"].astype(\"category\")\n",
        "df_Sex = pd.get_dummies(traindata['Sex'])\n",
        "df_new = pd.concat([traindata, df_Sex], axis=1)\n",
        "print(df_new)\n",
        "#anotherway to categorize the gender"
      ],
      "metadata": {
        "colab": {
          "base_uri": "https://localhost:8080/"
        },
        "id": "h01yIOTAy8HM",
        "outputId": "d138b78b-4780-4d84-eb51-a0ee25ef823a"
      },
      "execution_count": 85,
      "outputs": [
        {
          "output_type": "stream",
          "name": "stdout",
          "text": [
            "     PassengerId  Survived  Pclass  \\\n",
            "0              1         0       3   \n",
            "1              2         1       1   \n",
            "2              3         1       3   \n",
            "3              4         1       1   \n",
            "4              5         0       3   \n",
            "..           ...       ...     ...   \n",
            "886          887         0       2   \n",
            "887          888         1       1   \n",
            "888          889         0       3   \n",
            "889          890         1       1   \n",
            "890          891         0       3   \n",
            "\n",
            "                                                  Name     Sex        Age  \\\n",
            "0                              Braund, Mr. Owen Harris    male  22.000000   \n",
            "1    Cumings, Mrs. John Bradley (Florence Briggs Th...  female  38.000000   \n",
            "2                               Heikkinen, Miss. Laina  female  26.000000   \n",
            "3         Futrelle, Mrs. Jacques Heath (Lily May Peel)  female  35.000000   \n",
            "4                             Allen, Mr. William Henry    male  35.000000   \n",
            "..                                                 ...     ...        ...   \n",
            "886                              Montvila, Rev. Juozas    male  27.000000   \n",
            "887                       Graham, Miss. Margaret Edith  female  19.000000   \n",
            "888           Johnston, Miss. Catherine Helen \"Carrie\"  female  29.699118   \n",
            "889                              Behr, Mr. Karl Howell    male  26.000000   \n",
            "890                                Dooley, Mr. Patrick    male  32.000000   \n",
            "\n",
            "     SibSp  Parch            Ticket     Fare Cabin Embarked  female  male  \n",
            "0        1      0         A/5 21171   7.2500   NaN        S       0     1  \n",
            "1        1      0          PC 17599  71.2833   C85        C       1     0  \n",
            "2        0      0  STON/O2. 3101282   7.9250   NaN        S       1     0  \n",
            "3        1      0            113803  53.1000  C123        S       1     0  \n",
            "4        0      0            373450   8.0500   NaN        S       0     1  \n",
            "..     ...    ...               ...      ...   ...      ...     ...   ...  \n",
            "886      0      0            211536  13.0000   NaN        S       0     1  \n",
            "887      0      0            112053  30.0000   B42        S       1     0  \n",
            "888      1      2        W./C. 6607  23.4500   NaN        S       1     0  \n",
            "889      0      0            111369  30.0000  C148        C       0     1  \n",
            "890      0      0            370376   7.7500   NaN        Q       0     1  \n",
            "\n",
            "[891 rows x 14 columns]\n"
          ]
        }
      ]
    },
    {
      "cell_type": "code",
      "source": [
        "traindata.head()"
      ],
      "metadata": {
        "colab": {
          "base_uri": "https://localhost:8080/",
          "height": 206
        },
        "id": "FeFAMMqd1MCP",
        "outputId": "4aeeea40-48fb-43f8-8747-4ce5564a0e7d"
      },
      "execution_count": 83,
      "outputs": [
        {
          "output_type": "execute_result",
          "data": {
            "text/plain": [
              "   PassengerId  Survived  Pclass  \\\n",
              "0            1         0       3   \n",
              "1            2         1       1   \n",
              "2            3         1       3   \n",
              "3            4         1       1   \n",
              "4            5         0       3   \n",
              "\n",
              "                                                Name     Sex   Age  SibSp  \\\n",
              "0                            Braund, Mr. Owen Harris    male  22.0      1   \n",
              "1  Cumings, Mrs. John Bradley (Florence Briggs Th...  female  38.0      1   \n",
              "2                             Heikkinen, Miss. Laina  female  26.0      0   \n",
              "3       Futrelle, Mrs. Jacques Heath (Lily May Peel)  female  35.0      1   \n",
              "4                           Allen, Mr. William Henry    male  35.0      0   \n",
              "\n",
              "   Parch            Ticket     Fare Cabin Embarked  \n",
              "0      0         A/5 21171   7.2500   NaN        S  \n",
              "1      0          PC 17599  71.2833   C85        C  \n",
              "2      0  STON/O2. 3101282   7.9250   NaN        S  \n",
              "3      0            113803  53.1000  C123        S  \n",
              "4      0            373450   8.0500   NaN        S  "
            ],
            "text/html": [
              "\n",
              "  <div id=\"df-e08991e4-123c-474f-a144-60ca82efa539\">\n",
              "    <div class=\"colab-df-container\">\n",
              "      <div>\n",
              "<style scoped>\n",
              "    .dataframe tbody tr th:only-of-type {\n",
              "        vertical-align: middle;\n",
              "    }\n",
              "\n",
              "    .dataframe tbody tr th {\n",
              "        vertical-align: top;\n",
              "    }\n",
              "\n",
              "    .dataframe thead th {\n",
              "        text-align: right;\n",
              "    }\n",
              "</style>\n",
              "<table border=\"1\" class=\"dataframe\">\n",
              "  <thead>\n",
              "    <tr style=\"text-align: right;\">\n",
              "      <th></th>\n",
              "      <th>PassengerId</th>\n",
              "      <th>Survived</th>\n",
              "      <th>Pclass</th>\n",
              "      <th>Name</th>\n",
              "      <th>Sex</th>\n",
              "      <th>Age</th>\n",
              "      <th>SibSp</th>\n",
              "      <th>Parch</th>\n",
              "      <th>Ticket</th>\n",
              "      <th>Fare</th>\n",
              "      <th>Cabin</th>\n",
              "      <th>Embarked</th>\n",
              "    </tr>\n",
              "  </thead>\n",
              "  <tbody>\n",
              "    <tr>\n",
              "      <th>0</th>\n",
              "      <td>1</td>\n",
              "      <td>0</td>\n",
              "      <td>3</td>\n",
              "      <td>Braund, Mr. Owen Harris</td>\n",
              "      <td>male</td>\n",
              "      <td>22.0</td>\n",
              "      <td>1</td>\n",
              "      <td>0</td>\n",
              "      <td>A/5 21171</td>\n",
              "      <td>7.2500</td>\n",
              "      <td>NaN</td>\n",
              "      <td>S</td>\n",
              "    </tr>\n",
              "    <tr>\n",
              "      <th>1</th>\n",
              "      <td>2</td>\n",
              "      <td>1</td>\n",
              "      <td>1</td>\n",
              "      <td>Cumings, Mrs. John Bradley (Florence Briggs Th...</td>\n",
              "      <td>female</td>\n",
              "      <td>38.0</td>\n",
              "      <td>1</td>\n",
              "      <td>0</td>\n",
              "      <td>PC 17599</td>\n",
              "      <td>71.2833</td>\n",
              "      <td>C85</td>\n",
              "      <td>C</td>\n",
              "    </tr>\n",
              "    <tr>\n",
              "      <th>2</th>\n",
              "      <td>3</td>\n",
              "      <td>1</td>\n",
              "      <td>3</td>\n",
              "      <td>Heikkinen, Miss. Laina</td>\n",
              "      <td>female</td>\n",
              "      <td>26.0</td>\n",
              "      <td>0</td>\n",
              "      <td>0</td>\n",
              "      <td>STON/O2. 3101282</td>\n",
              "      <td>7.9250</td>\n",
              "      <td>NaN</td>\n",
              "      <td>S</td>\n",
              "    </tr>\n",
              "    <tr>\n",
              "      <th>3</th>\n",
              "      <td>4</td>\n",
              "      <td>1</td>\n",
              "      <td>1</td>\n",
              "      <td>Futrelle, Mrs. Jacques Heath (Lily May Peel)</td>\n",
              "      <td>female</td>\n",
              "      <td>35.0</td>\n",
              "      <td>1</td>\n",
              "      <td>0</td>\n",
              "      <td>113803</td>\n",
              "      <td>53.1000</td>\n",
              "      <td>C123</td>\n",
              "      <td>S</td>\n",
              "    </tr>\n",
              "    <tr>\n",
              "      <th>4</th>\n",
              "      <td>5</td>\n",
              "      <td>0</td>\n",
              "      <td>3</td>\n",
              "      <td>Allen, Mr. William Henry</td>\n",
              "      <td>male</td>\n",
              "      <td>35.0</td>\n",
              "      <td>0</td>\n",
              "      <td>0</td>\n",
              "      <td>373450</td>\n",
              "      <td>8.0500</td>\n",
              "      <td>NaN</td>\n",
              "      <td>S</td>\n",
              "    </tr>\n",
              "  </tbody>\n",
              "</table>\n",
              "</div>\n",
              "      <button class=\"colab-df-convert\" onclick=\"convertToInteractive('df-e08991e4-123c-474f-a144-60ca82efa539')\"\n",
              "              title=\"Convert this dataframe to an interactive table.\"\n",
              "              style=\"display:none;\">\n",
              "        \n",
              "  <svg xmlns=\"http://www.w3.org/2000/svg\" height=\"24px\"viewBox=\"0 0 24 24\"\n",
              "       width=\"24px\">\n",
              "    <path d=\"M0 0h24v24H0V0z\" fill=\"none\"/>\n",
              "    <path d=\"M18.56 5.44l.94 2.06.94-2.06 2.06-.94-2.06-.94-.94-2.06-.94 2.06-2.06.94zm-11 1L8.5 8.5l.94-2.06 2.06-.94-2.06-.94L8.5 2.5l-.94 2.06-2.06.94zm10 10l.94 2.06.94-2.06 2.06-.94-2.06-.94-.94-2.06-.94 2.06-2.06.94z\"/><path d=\"M17.41 7.96l-1.37-1.37c-.4-.4-.92-.59-1.43-.59-.52 0-1.04.2-1.43.59L10.3 9.45l-7.72 7.72c-.78.78-.78 2.05 0 2.83L4 21.41c.39.39.9.59 1.41.59.51 0 1.02-.2 1.41-.59l7.78-7.78 2.81-2.81c.8-.78.8-2.07 0-2.86zM5.41 20L4 18.59l7.72-7.72 1.47 1.35L5.41 20z\"/>\n",
              "  </svg>\n",
              "      </button>\n",
              "      \n",
              "  <style>\n",
              "    .colab-df-container {\n",
              "      display:flex;\n",
              "      flex-wrap:wrap;\n",
              "      gap: 12px;\n",
              "    }\n",
              "\n",
              "    .colab-df-convert {\n",
              "      background-color: #E8F0FE;\n",
              "      border: none;\n",
              "      border-radius: 50%;\n",
              "      cursor: pointer;\n",
              "      display: none;\n",
              "      fill: #1967D2;\n",
              "      height: 32px;\n",
              "      padding: 0 0 0 0;\n",
              "      width: 32px;\n",
              "    }\n",
              "\n",
              "    .colab-df-convert:hover {\n",
              "      background-color: #E2EBFA;\n",
              "      box-shadow: 0px 1px 2px rgba(60, 64, 67, 0.3), 0px 1px 3px 1px rgba(60, 64, 67, 0.15);\n",
              "      fill: #174EA6;\n",
              "    }\n",
              "\n",
              "    [theme=dark] .colab-df-convert {\n",
              "      background-color: #3B4455;\n",
              "      fill: #D2E3FC;\n",
              "    }\n",
              "\n",
              "    [theme=dark] .colab-df-convert:hover {\n",
              "      background-color: #434B5C;\n",
              "      box-shadow: 0px 1px 3px 1px rgba(0, 0, 0, 0.15);\n",
              "      filter: drop-shadow(0px 1px 2px rgba(0, 0, 0, 0.3));\n",
              "      fill: #FFFFFF;\n",
              "    }\n",
              "  </style>\n",
              "\n",
              "      <script>\n",
              "        const buttonEl =\n",
              "          document.querySelector('#df-e08991e4-123c-474f-a144-60ca82efa539 button.colab-df-convert');\n",
              "        buttonEl.style.display =\n",
              "          google.colab.kernel.accessAllowed ? 'block' : 'none';\n",
              "\n",
              "        async function convertToInteractive(key) {\n",
              "          const element = document.querySelector('#df-e08991e4-123c-474f-a144-60ca82efa539');\n",
              "          const dataTable =\n",
              "            await google.colab.kernel.invokeFunction('convertToInteractive',\n",
              "                                                     [key], {});\n",
              "          if (!dataTable) return;\n",
              "\n",
              "          const docLinkHtml = 'Like what you see? Visit the ' +\n",
              "            '<a target=\"_blank\" href=https://colab.research.google.com/notebooks/data_table.ipynb>data table notebook</a>'\n",
              "            + ' to learn more about interactive tables.';\n",
              "          element.innerHTML = '';\n",
              "          dataTable['output_type'] = 'display_data';\n",
              "          await google.colab.output.renderOutput(dataTable, element);\n",
              "          const docLink = document.createElement('div');\n",
              "          docLink.innerHTML = docLinkHtml;\n",
              "          element.appendChild(docLink);\n",
              "        }\n",
              "      </script>\n",
              "    </div>\n",
              "  </div>\n",
              "  "
            ]
          },
          "metadata": {},
          "execution_count": 83
        }
      ]
    },
    {
      "cell_type": "code",
      "source": [
        "traindata['Survived'].corr(traindata['Age'])"
      ],
      "metadata": {
        "colab": {
          "base_uri": "https://localhost:8080/"
        },
        "id": "UYXKzuD4ubcC",
        "outputId": "23d0686d-2fe1-4f6e-d34b-460a81a3cf7b"
      },
      "execution_count": 69,
      "outputs": [
        {
          "output_type": "execute_result",
          "data": {
            "text/plain": [
              "-0.07722109457217768"
            ]
          },
          "metadata": {},
          "execution_count": 69
        }
      ]
    },
    {
      "cell_type": "code",
      "source": [
        "traindata.hist(column=\"Age\")\n",
        "#before handling nulls"
      ],
      "metadata": {
        "colab": {
          "base_uri": "https://localhost:8080/",
          "height": 316
        },
        "id": "29xB-6hJvzYO",
        "outputId": "73f72912-31e0-4946-9242-6543c7db7f1c"
      },
      "execution_count": 70,
      "outputs": [
        {
          "output_type": "execute_result",
          "data": {
            "text/plain": [
              "array([[<matplotlib.axes._subplots.AxesSubplot object at 0x7fabf5b70f10>]],\n",
              "      dtype=object)"
            ]
          },
          "metadata": {},
          "execution_count": 70
        },
        {
          "output_type": "display_data",
          "data": {
            "text/plain": [
              "<Figure size 432x288 with 1 Axes>"
            ],
            "image/png": "[encoded data removed]"
          },
          "metadata": {
            "needs_background": "light"
          }
        }
      ]
    },
    {
      "cell_type": "code",
      "source": [
        ""
      ],
      "metadata": {
        "id": "QBstEvxYv_xU"
      },
      "execution_count": null,
      "outputs": []
    },
    {
      "cell_type": "code",
      "source": [
        "traindata[\"Age\"].fillna(traindata[\"Age\"].mean(),inplace=True)\n",
        "traindata.hist(column=\"Age\")\n",
        "#after handling nulls"
      ],
      "metadata": {
        "colab": {
          "base_uri": "https://localhost:8080/",
          "height": 316
        },
        "id": "6d1Az4fwtyxS",
        "outputId": "0c04a493-6be2-4bcd-966e-c73ae8fb05ba"
      },
      "execution_count": 72,
      "outputs": [
        {
          "output_type": "execute_result",
          "data": {
            "text/plain": [
              "array([[<matplotlib.axes._subplots.AxesSubplot object at 0x7fabf5ac1cd0>]],\n",
              "      dtype=object)"
            ]
          },
          "metadata": {},
          "execution_count": 72
        },
        {
          "output_type": "display_data",
          "data": {
            "text/plain": [
              "<Figure size 432x288 with 1 Axes>"
            ],
            "image/png": "[encoded data removed]"
          },
          "metadata": {
            "needs_background": "light"
          }
        }
      ]
    },
    {
      "cell_type": "code",
      "source": [
        "sns.boxplot(traindata[\"Age\"])\n",
        "#trying to find the maximum agegroup"
      ],
      "metadata": {
        "colab": {
          "base_uri": "https://localhost:8080/",
          "height": 351
        },
        "id": "0U6DL_MJ7Ma7",
        "outputId": "9354f836-727f-44cf-dafd-51f2d7475b4f"
      },
      "execution_count": 93,
      "outputs": [
        {
          "output_type": "stream",
          "name": "stderr",
          "text": [
            "/usr/local/lib/python3.7/dist-packages/seaborn/_decorators.py:43: FutureWarning: Pass the following variable as a keyword arg: x. From version 0.12, the only valid positional argument will be `data`, and passing other arguments without an explicit keyword will result in an error or misinterpretation.\n",
            "  FutureWarning\n"
          ]
        },
        {
          "output_type": "execute_result",
          "data": {
            "text/plain": [
              "<matplotlib.axes._subplots.AxesSubplot at 0x7fabf5848550>"
            ]
          },
          "metadata": {},
          "execution_count": 93
        },
        {
          "output_type": "display_data",
          "data": {
            "text/plain": [
              "<Figure size 432x288 with 1 Axes>"
            ],
            "image/png": "[encoded data removed]"
          },
          "metadata": {
            "needs_background": "light"
          }
        }
      ]
    },
    {
      "cell_type": "code",
      "source": [
        "traindata.drop(columns=[\"Cabin\"],inplace=True) #dropping column of cabins as it have almost 600+ nuls"
      ],
      "metadata": {
        "id": "l3i4JJORSTkQ"
      },
      "execution_count": 138,
      "outputs": []
    },
    {
      "cell_type": "code",
      "source": [
        "traindata.head() #cabin column dropped"
      ],
      "metadata": {
        "colab": {
          "base_uri": "https://localhost:8080/",
          "height": 206
        },
        "id": "dyABuwZYSj2j",
        "outputId": "50ab032e-c040-4c13-da22-454e962992a9"
      },
      "execution_count": 139,
      "outputs": [
        {
          "output_type": "execute_result",
          "data": {
            "text/plain": [
              "   PassengerId  Survived  Pclass  \\\n",
              "0            1         0       3   \n",
              "1            2         1       1   \n",
              "2            3         1       3   \n",
              "3            4         1       1   \n",
              "4            5         0       3   \n",
              "\n",
              "                                                Name Sex   Age  SibSp  Parch  \\\n",
              "0                            Braund, Mr. Owen Harris   1  22.0      1      0   \n",
              "1  Cumings, Mrs. John Bradley (Florence Briggs Th...   0  38.0      1      0   \n",
              "2                             Heikkinen, Miss. Laina   0  26.0      0      0   \n",
              "3       Futrelle, Mrs. Jacques Heath (Lily May Peel)   0  35.0      1      0   \n",
              "4                           Allen, Mr. William Henry   1  35.0      0      0   \n",
              "\n",
              "             Ticket     Fare Embarked  \n",
              "0         A/5 21171   7.2500        S  \n",
              "1          PC 17599  71.2833        C  \n",
              "2  STON/O2. 3101282   7.9250        S  \n",
              "3            113803  53.1000        S  \n",
              "4            373450   8.0500        S  "
            ],
            "text/html": [
              "\n",
              "  <div id=\"df-28604302-f4c3-4eb0-9e67-4bc2b25b1ef8\">\n",
              "    <div class=\"colab-df-container\">\n",
              "      <div>\n",
              "<style scoped>\n",
              "    .dataframe tbody tr th:only-of-type {\n",
              "        vertical-align: middle;\n",
              "    }\n",
              "\n",
              "    .dataframe tbody tr th {\n",
              "        vertical-align: top;\n",
              "    }\n",
              "\n",
              "    .dataframe thead th {\n",
              "        text-align: right;\n",
              "    }\n",
              "</style>\n",
              "<table border=\"1\" class=\"dataframe\">\n",
              "  <thead>\n",
              "    <tr style=\"text-align: right;\">\n",
              "      <th></th>\n",
              "      <th>PassengerId</th>\n",
              "      <th>Survived</th>\n",
              "      <th>Pclass</th>\n",
              "      <th>Name</th>\n",
              "      <th>Sex</th>\n",
              "      <th>Age</th>\n",
              "      <th>SibSp</th>\n",
              "      <th>Parch</th>\n",
              "      <th>Ticket</th>\n",
              "      <th>Fare</th>\n",
              "      <th>Embarked</th>\n",
              "    </tr>\n",
              "  </thead>\n",
              "  <tbody>\n",
              "    <tr>\n",
              "      <th>0</th>\n",
              "      <td>1</td>\n",
              "      <td>0</td>\n",
              "      <td>3</td>\n",
              "      <td>Braund, Mr. Owen Harris</td>\n",
              "      <td>1</td>\n",
              "      <td>22.0</td>\n",
              "      <td>1</td>\n",
              "      <td>0</td>\n",
              "      <td>A/5 21171</td>\n",
              "      <td>7.2500</td>\n",
              "      <td>S</td>\n",
              "    </tr>\n",
              "    <tr>\n",
              "      <th>1</th>\n",
              "      <td>2</td>\n",
              "      <td>1</td>\n",
              "      <td>1</td>\n",
              "      <td>Cumings, Mrs. John Bradley (Florence Briggs Th...</td>\n",
              "      <td>0</td>\n",
              "      <td>38.0</td>\n",
              "      <td>1</td>\n",
              "      <td>0</td>\n",
              "      <td>PC 17599</td>\n",
              "      <td>71.2833</td>\n",
              "      <td>C</td>\n",
              "    </tr>\n",
              "    <tr>\n",
              "      <th>2</th>\n",
              "      <td>3</td>\n",
              "      <td>1</td>\n",
              "      <td>3</td>\n",
              "      <td>Heikkinen, Miss. Laina</td>\n",
              "      <td>0</td>\n",
              "      <td>26.0</td>\n",
              "      <td>0</td>\n",
              "      <td>0</td>\n",
              "      <td>STON/O2. 3101282</td>\n",
              "      <td>7.9250</td>\n",
              "      <td>S</td>\n",
              "    </tr>\n",
              "    <tr>\n",
              "      <th>3</th>\n",
              "      <td>4</td>\n",
              "      <td>1</td>\n",
              "      <td>1</td>\n",
              "      <td>Futrelle, Mrs. Jacques Heath (Lily May Peel)</td>\n",
              "      <td>0</td>\n",
              "      <td>35.0</td>\n",
              "      <td>1</td>\n",
              "      <td>0</td>\n",
              "      <td>113803</td>\n",
              "      <td>53.1000</td>\n",
              "      <td>S</td>\n",
              "    </tr>\n",
              "    <tr>\n",
              "      <th>4</th>\n",
              "      <td>5</td>\n",
              "      <td>0</td>\n",
              "      <td>3</td>\n",
              "      <td>Allen, Mr. William Henry</td>\n",
              "      <td>1</td>\n",
              "      <td>35.0</td>\n",
              "      <td>0</td>\n",
              "      <td>0</td>\n",
              "      <td>373450</td>\n",
              "      <td>8.0500</td>\n",
              "      <td>S</td>\n",
              "    </tr>\n",
              "  </tbody>\n",
              "</table>\n",
              "</div>\n",
              "      <button class=\"colab-df-convert\" onclick=\"convertToInteractive('df-28604302-f4c3-4eb0-9e67-4bc2b25b1ef8')\"\n",
              "              title=\"Convert this dataframe to an interactive table.\"\n",
              "              style=\"display:none;\">\n",
              "        \n",
              "  <svg xmlns=\"http://www.w3.org/2000/svg\" height=\"24px\"viewBox=\"0 0 24 24\"\n",
              "       width=\"24px\">\n",
              "    <path d=\"M0 0h24v24H0V0z\" fill=\"none\"/>\n",
              "    <path d=\"M18.56 5.44l.94 2.06.94-2.06 2.06-.94-2.06-.94-.94-2.06-.94 2.06-2.06.94zm-11 1L8.5 8.5l.94-2.06 2.06-.94-2.06-.94L8.5 2.5l-.94 2.06-2.06.94zm10 10l.94 2.06.94-2.06 2.06-.94-2.06-.94-.94-2.06-.94 2.06-2.06.94z\"/><path d=\"M17.41 7.96l-1.37-1.37c-.4-.4-.92-.59-1.43-.59-.52 0-1.04.2-1.43.59L10.3 9.45l-7.72 7.72c-.78.78-.78 2.05 0 2.83L4 21.41c.39.39.9.59 1.41.59.51 0 1.02-.2 1.41-.59l7.78-7.78 2.81-2.81c.8-.78.8-2.07 0-2.86zM5.41 20L4 18.59l7.72-7.72 1.47 1.35L5.41 20z\"/>\n",
              "  </svg>\n",
              "      </button>\n",
              "      \n",
              "  <style>\n",
              "    .colab-df-container {\n",
              "      display:flex;\n",
              "      flex-wrap:wrap;\n",
              "      gap: 12px;\n",
              "    }\n",
              "\n",
              "    .colab-df-convert {\n",
              "      background-color: #E8F0FE;\n",
              "      border: none;\n",
              "      border-radius: 50%;\n",
              "      cursor: pointer;\n",
              "      display: none;\n",
              "      fill: #1967D2;\n",
              "      height: 32px;\n",
              "      padding: 0 0 0 0;\n",
              "      width: 32px;\n",
              "    }\n",
              "\n",
              "    .colab-df-convert:hover {\n",
              "      background-color: #E2EBFA;\n",
              "      box-shadow: 0px 1px 2px rgba(60, 64, 67, 0.3), 0px 1px 3px 1px rgba(60, 64, 67, 0.15);\n",
              "      fill: #174EA6;\n",
              "    }\n",
              "\n",
              "    [theme=dark] .colab-df-convert {\n",
              "      background-color: #3B4455;\n",
              "      fill: #D2E3FC;\n",
              "    }\n",
              "\n",
              "    [theme=dark] .colab-df-convert:hover {\n",
              "      background-color: #434B5C;\n",
              "      box-shadow: 0px 1px 3px 1px rgba(0, 0, 0, 0.15);\n",
              "      filter: drop-shadow(0px 1px 2px rgba(0, 0, 0, 0.3));\n",
              "      fill: #FFFFFF;\n",
              "    }\n",
              "  </style>\n",
              "\n",
              "      <script>\n",
              "        const buttonEl =\n",
              "          document.querySelector('#df-28604302-f4c3-4eb0-9e67-4bc2b25b1ef8 button.colab-df-convert');\n",
              "        buttonEl.style.display =\n",
              "          google.colab.kernel.accessAllowed ? 'block' : 'none';\n",
              "\n",
              "        async function convertToInteractive(key) {\n",
              "          const element = document.querySelector('#df-28604302-f4c3-4eb0-9e67-4bc2b25b1ef8');\n",
              "          const dataTable =\n",
              "            await google.colab.kernel.invokeFunction('convertToInteractive',\n",
              "                                                     [key], {});\n",
              "          if (!dataTable) return;\n",
              "\n",
              "          const docLinkHtml = 'Like what you see? Visit the ' +\n",
              "            '<a target=\"_blank\" href=https://colab.research.google.com/notebooks/data_table.ipynb>data table notebook</a>'\n",
              "            + ' to learn more about interactive tables.';\n",
              "          element.innerHTML = '';\n",
              "          dataTable['output_type'] = 'display_data';\n",
              "          await google.colab.output.renderOutput(dataTable, element);\n",
              "          const docLink = document.createElement('div');\n",
              "          docLink.innerHTML = docLinkHtml;\n",
              "          element.appendChild(docLink);\n",
              "        }\n",
              "      </script>\n",
              "    </div>\n",
              "  </div>\n",
              "  "
            ]
          },
          "metadata": {},
          "execution_count": 139
        }
      ]
    },
    {
      "cell_type": "code",
      "source": [
        "#Where there any kids on the ship? After handling nulls\n",
        "Kids = traindata[traindata['Age'] <= 15]\n",
        "Kids.shape"
      ],
      "metadata": {
        "colab": {
          "base_uri": "https://localhost:8080/"
        },
        "id": "DE2SdAQL7abG",
        "outputId": "b2903556-cd74-4886-d894-dfbd2992cd24"
      },
      "execution_count": 98,
      "outputs": [
        {
          "output_type": "execute_result",
          "data": {
            "text/plain": [
              "(83, 12)"
            ]
          },
          "metadata": {},
          "execution_count": 98
        }
      ]
    },
    {
      "cell_type": "code",
      "source": [
        "Kids.info()"
      ],
      "metadata": {
        "colab": {
          "base_uri": "https://localhost:8080/"
        },
        "id": "rNzhf3mX9KmT",
        "outputId": "a2b1f9d2-25b0-4eb7-9cdb-ff3a15e82cf6"
      },
      "execution_count": 100,
      "outputs": [
        {
          "output_type": "stream",
          "name": "stdout",
          "text": [
            "<class 'pandas.core.frame.DataFrame'>\n",
            "Int64Index: 83 entries, 7 to 875\n",
            "Data columns (total 12 columns):\n",
            " #   Column       Non-Null Count  Dtype   \n",
            "---  ------       --------------  -----   \n",
            " 0   PassengerId  83 non-null     int64   \n",
            " 1   Survived     83 non-null     int64   \n",
            " 2   Pclass       83 non-null     int64   \n",
            " 3   Name         83 non-null     object  \n",
            " 4   Sex          83 non-null     category\n",
            " 5   Age          83 non-null     float64 \n",
            " 6   SibSp        83 non-null     int64   \n",
            " 7   Parch        83 non-null     int64   \n",
            " 8   Ticket       83 non-null     object  \n",
            " 9   Fare         83 non-null     float64 \n",
            " 10  Cabin        13 non-null     object  \n",
            " 11  Embarked     83 non-null     object  \n",
            "dtypes: category(1), float64(2), int64(5), object(4)\n",
            "memory usage: 8.0+ KB\n"
          ]
        }
      ]
    },
    {
      "cell_type": "code",
      "source": [
        "#CAN WE DETERMINE WHO SURVIVED FROM THE KIDS AND WHO DID NOT SURVIVE?\n",
        "SURVIVEDKIDS = traindata[(traindata['Age'] <= 15) & (traindata['Survived'] == 1)]\n",
        "print(SURVIVEDKIDS)\n",
        "sns.pairplot(SURVIVEDKIDS)\n"
      ],
      "metadata": {
        "colab": {
          "base_uri": "https://localhost:8080/",
          "height": 1000
        },
        "id": "Iyuv-OE29n5k",
        "outputId": "6dbdb7ab-61f4-4abe-c30c-efafacff383c"
      },
      "execution_count": 109,
      "outputs": [
        {
          "output_type": "stream",
          "name": "stdout",
          "text": [
            "     PassengerId  Survived  Pclass  \\\n",
            "9             10         1       2   \n",
            "10            11         1       3   \n",
            "22            23         1       3   \n",
            "39            40         1       3   \n",
            "43            44         1       2   \n",
            "58            59         1       2   \n",
            "78            79         1       2   \n",
            "125          126         1       3   \n",
            "165          166         1       3   \n",
            "172          173         1       3   \n",
            "183          184         1       2   \n",
            "184          185         1       3   \n",
            "193          194         1       2   \n",
            "233          234         1       3   \n",
            "237          238         1       2   \n",
            "261          262         1       3   \n",
            "305          306         1       1   \n",
            "340          341         1       2   \n",
            "348          349         1       3   \n",
            "381          382         1       3   \n",
            "407          408         1       2   \n",
            "435          436         1       1   \n",
            "445          446         1       1   \n",
            "446          447         1       2   \n",
            "448          449         1       3   \n",
            "469          470         1       3   \n",
            "479          480         1       3   \n",
            "489          490         1       3   \n",
            "530          531         1       2   \n",
            "535          536         1       2   \n",
            "549          550         1       2   \n",
            "618          619         1       2   \n",
            "644          645         1       3   \n",
            "689          690         1       1   \n",
            "691          692         1       3   \n",
            "720          721         1       2   \n",
            "750          751         1       2   \n",
            "751          752         1       3   \n",
            "755          756         1       2   \n",
            "777          778         1       3   \n",
            "780          781         1       3   \n",
            "788          789         1       3   \n",
            "802          803         1       1   \n",
            "803          804         1       3   \n",
            "827          828         1       2   \n",
            "830          831         1       3   \n",
            "831          832         1       2   \n",
            "869          870         1       3   \n",
            "875          876         1       3   \n",
            "\n",
            "                                                Name     Sex    Age  SibSp  \\\n",
            "9                Nasser, Mrs. Nicholas (Adele Achem)  female  14.00      1   \n",
            "10                   Sandstrom, Miss. Marguerite Rut  female   4.00      1   \n",
            "22                       McGowan, Miss. Anna \"Annie\"  female  15.00      0   \n",
            "39                       Nicola-Yarred, Miss. Jamila  female  14.00      1   \n",
            "43          Laroche, Miss. Simonne Marie Anne Andree  female   3.00      1   \n",
            "58                      West, Miss. Constance Mirium  female   5.00      1   \n",
            "78                     Caldwell, Master. Alden Gates    male   0.83      0   \n",
            "125                     Nicola-Yarred, Master. Elias    male  12.00      1   \n",
            "165  Goldsmith, Master. Frank John William \"Frankie\"    male   9.00      0   \n",
            "172                     Johnson, Miss. Eleanor Ileen  female   1.00      1   \n",
            "183                        Becker, Master. Richard F    male   1.00      2   \n",
            "184              Kink-Heilmann, Miss. Luise Gretchen  female   4.00      0   \n",
            "193                       Navratil, Master. Michel M    male   3.00      1   \n",
            "233                   Asplund, Miss. Lillian Gertrud  female   5.00      4   \n",
            "237                 Collyer, Miss. Marjorie \"Lottie\"  female   8.00      0   \n",
            "261                Asplund, Master. Edvin Rojj Felix    male   3.00      4   \n",
            "305                   Allison, Master. Hudson Trevor    male   0.92      1   \n",
            "340                   Navratil, Master. Edmond Roger    male   2.00      1   \n",
            "348           Coutts, Master. William Loch \"William\"    male   3.00      1   \n",
            "381                      Nakid, Miss. Maria (\"Mary\")  female   1.00      0   \n",
            "407                   Richards, Master. William Rowe    male   3.00      1   \n",
            "435                        Carter, Miss. Lucile Polk  female  14.00      1   \n",
            "445                        Dodge, Master. Washington    male   4.00      0   \n",
            "446                Mellinger, Miss. Madeleine Violet  female  13.00      0   \n",
            "448                   Baclini, Miss. Marie Catherine  female   5.00      2   \n",
            "469                    Baclini, Miss. Helene Barbara  female   0.75      2   \n",
            "479                         Hirvonen, Miss. Hildur E  female   2.00      0   \n",
            "489            Coutts, Master. Eden Leslie \"Neville\"    male   9.00      1   \n",
            "530                         Quick, Miss. Phyllis May  female   2.00      1   \n",
            "535                           Hart, Miss. Eva Miriam  female   7.00      0   \n",
            "549                   Davies, Master. John Morgan Jr    male   8.00      1   \n",
            "618                      Becker, Miss. Marion Louise  female   4.00      2   \n",
            "644                           Baclini, Miss. Eugenie  female   0.75      2   \n",
            "689                Madill, Miss. Georgette Alexandra  female  15.00      0   \n",
            "691                               Karun, Miss. Manca  female   4.00      0   \n",
            "720                Harper, Miss. Annie Jessie \"Nina\"  female   6.00      0   \n",
            "750                                Wells, Miss. Joan  female   4.00      1   \n",
            "751                              Moor, Master. Meier    male   6.00      0   \n",
            "755                        Hamalainen, Master. Viljo    male   0.67      1   \n",
            "777                    Emanuel, Miss. Virginia Ethel  female   5.00      0   \n",
            "780                             Ayoub, Miss. Banoura  female  13.00      0   \n",
            "788                       Dean, Master. Bertram Vere    male   1.00      1   \n",
            "802              Carter, Master. William Thornton II    male  11.00      1   \n",
            "803                  Thomas, Master. Assad Alexander    male   0.42      0   \n",
            "827                            Mallet, Master. Andre    male   1.00      0   \n",
            "830          Yasbeck, Mrs. Antoni (Selini Alexander)  female  15.00      1   \n",
            "831                  Richards, Master. George Sibley    male   0.83      1   \n",
            "869                  Johnson, Master. Harold Theodor    male   4.00      1   \n",
            "875                 Najib, Miss. Adele Kiamie \"Jane\"  female  15.00      0   \n",
            "\n",
            "     Parch           Ticket      Fare    Cabin Embarked  \n",
            "9        0           237736   30.0708      NaN        C  \n",
            "10       1          PP 9549   16.7000       G6        S  \n",
            "22       0           330923    8.0292      NaN        Q  \n",
            "39       0             2651   11.2417      NaN        C  \n",
            "43       2    SC/Paris 2123   41.5792      NaN        C  \n",
            "58       2       C.A. 34651   27.7500      NaN        S  \n",
            "78       2           248738   29.0000      NaN        S  \n",
            "125      0             2651   11.2417      NaN        C  \n",
            "165      2           363291   20.5250      NaN        S  \n",
            "172      1           347742   11.1333      NaN        S  \n",
            "183      1           230136   39.0000       F4        S  \n",
            "184      2           315153   22.0250      NaN        S  \n",
            "193      1           230080   26.0000       F2        S  \n",
            "233      2           347077   31.3875      NaN        S  \n",
            "237      2       C.A. 31921   26.2500      NaN        S  \n",
            "261      2           347077   31.3875      NaN        S  \n",
            "305      2           113781  151.5500  C22 C26        S  \n",
            "340      1           230080   26.0000       F2        S  \n",
            "348      1       C.A. 37671   15.9000      NaN        S  \n",
            "381      2             2653   15.7417      NaN        C  \n",
            "407      1            29106   18.7500      NaN        S  \n",
            "435      2           113760  120.0000  B96 B98        S  \n",
            "445      2            33638   81.8583      A34        S  \n",
            "446      1           250644   19.5000      NaN        S  \n",
            "448      1             2666   19.2583      NaN        C  \n",
            "469      1             2666   19.2583      NaN        C  \n",
            "479      1          3101298   12.2875      NaN        S  \n",
            "489      1       C.A. 37671   15.9000      NaN        S  \n",
            "530      1            26360   26.0000      NaN        S  \n",
            "535      2     F.C.C. 13529   26.2500      NaN        S  \n",
            "549      1       C.A. 33112   36.7500      NaN        S  \n",
            "618      1           230136   39.0000       F4        S  \n",
            "644      1             2666   19.2583      NaN        C  \n",
            "689      1            24160  211.3375       B5        S  \n",
            "691      1           349256   13.4167      NaN        C  \n",
            "720      1           248727   33.0000      NaN        S  \n",
            "750      1            29103   23.0000      NaN        S  \n",
            "751      1           392096   12.4750     E121        S  \n",
            "755      1           250649   14.5000      NaN        S  \n",
            "777      0           364516   12.4750      NaN        S  \n",
            "780      0             2687    7.2292      NaN        C  \n",
            "788      2        C.A. 2315   20.5750      NaN        S  \n",
            "802      2           113760  120.0000  B96 B98        S  \n",
            "803      1             2625    8.5167      NaN        C  \n",
            "827      2  S.C./PARIS 2079   37.0042      NaN        C  \n",
            "830      0             2659   14.4542      NaN        C  \n",
            "831      1            29106   18.7500      NaN        S  \n",
            "869      1           347742   11.1333      NaN        S  \n",
            "875      0             2667    7.2250      NaN        C  \n"
          ]
        },
        {
          "output_type": "execute_result",
          "data": {
            "text/plain": [
              "<seaborn.axisgrid.PairGrid at 0x7fabed2c5f90>"
            ]
          },
          "metadata": {},
          "execution_count": 109
        },
        {
          "output_type": "display_data",
          "data": {
            "text/plain": [
              "<Figure size 1260x1260 with 56 Axes>"
            ],
            "image/png": "[encoded data removed]"
          },
          "metadata": {
            "needs_background": "light"
          }
        }
      ]
    },
    {
      "cell_type": "code",
      "source": [
        "#CAN WE DETERMINE WHO SURVIVED FROM THE KIDS AND WHO DID NOT SURVIVE?\n",
        "NO_SURVIVEDKIDS = traindata[(traindata['Age'] <= 15) & (traindata['Survived'] == 0)]\n",
        "print(NO_SURVIVEDKIDS)\n",
        "sns.pairplot(NO_SURVIVEDKIDS)"
      ],
      "metadata": {
        "colab": {
          "base_uri": "https://localhost:8080/",
          "height": 1000
        },
        "id": "hwfzDfHg_kW0",
        "outputId": "2e707afc-a4cb-40d2-995d-d40928de2e81"
      },
      "execution_count": 110,
      "outputs": [
        {
          "output_type": "stream",
          "name": "stdout",
          "text": [
            "     PassengerId  Survived  Pclass                                     Name  \\\n",
            "7              8         0       3           Palsson, Master. Gosta Leonard   \n",
            "14            15         0       3     Vestrom, Miss. Hulda Amanda Adolfina   \n",
            "16            17         0       3                     Rice, Master. Eugene   \n",
            "24            25         0       3            Palsson, Miss. Torborg Danira   \n",
            "50            51         0       3               Panula, Master. Juha Niilo   \n",
            "59            60         0       3       Goodwin, Master. William Frederick   \n",
            "63            64         0       3                    Skoog, Master. Harald   \n",
            "111          112         0       3                     Zabour, Miss. Hileni   \n",
            "119          120         0       3        Andersson, Miss. Ellis Anna Maria   \n",
            "147          148         0       3         Ford, Miss. Robina Maggie \"Ruby\"   \n",
            "164          165         0       3             Panula, Master. Eino Viljami   \n",
            "171          172         0       3                     Rice, Master. Arthur   \n",
            "182          183         0       3    Asplund, Master. Clarence Gustaf Hugo   \n",
            "205          206         0       3               Strom, Miss. Telma Matilda   \n",
            "278          279         0       3                       Rice, Master. Eric   \n",
            "297          298         0       1             Allison, Miss. Helen Loraine   \n",
            "352          353         0       3                       Elias, Mr. Tannous   \n",
            "374          375         0       3               Palsson, Miss. Stina Viola   \n",
            "386          387         0       3          Goodwin, Master. Sidney Leonard   \n",
            "419          420         0       3                Van Impe, Miss. Catharina   \n",
            "480          481         0       3           Goodwin, Master. Harold Victor   \n",
            "541          542         0       3     Andersson, Miss. Ingeborg Constanzia   \n",
            "542          543         0       3        Andersson, Miss. Sigrid Elisabeth   \n",
            "634          635         0       3                       Skoog, Miss. Mabel   \n",
            "642          643         0       3            Skoog, Miss. Margit Elizabeth   \n",
            "683          684         0       3              Goodwin, Mr. Charles Edward   \n",
            "686          687         0       3                 Panula, Mr. Jaako Arnold   \n",
            "731          732         0       3                 Hassan, Mr. Houssein G N   \n",
            "787          788         0       3                Rice, Master. George Hugh   \n",
            "813          814         0       3       Andersson, Miss. Ebba Iris Alfrida   \n",
            "819          820         0       3             Skoog, Master. Karl Thorsten   \n",
            "824          825         0       3             Panula, Master. Urho Abraham   \n",
            "850          851         0       3  Andersson, Master. Sigvard Harald Elias   \n",
            "852          853         0       3                  Boulos, Miss. Nourelain   \n",
            "\n",
            "        Sex   Age  SibSp  Parch      Ticket      Fare    Cabin Embarked  \n",
            "7      male   2.0      3      1      349909   21.0750      NaN        S  \n",
            "14   female  14.0      0      0      350406    7.8542      NaN        S  \n",
            "16     male   2.0      4      1      382652   29.1250      NaN        Q  \n",
            "24   female   8.0      3      1      349909   21.0750      NaN        S  \n",
            "50     male   7.0      4      1     3101295   39.6875      NaN        S  \n",
            "59     male  11.0      5      2     CA 2144   46.9000      NaN        S  \n",
            "63     male   4.0      3      2      347088   27.9000      NaN        S  \n",
            "111  female  14.5      1      0        2665   14.4542      NaN        C  \n",
            "119  female   2.0      4      2      347082   31.2750      NaN        S  \n",
            "147  female   9.0      2      2  W./C. 6608   34.3750      NaN        S  \n",
            "164    male   1.0      4      1     3101295   39.6875      NaN        S  \n",
            "171    male   4.0      4      1      382652   29.1250      NaN        Q  \n",
            "182    male   9.0      4      2      347077   31.3875      NaN        S  \n",
            "205  female   2.0      0      1      347054   10.4625       G6        S  \n",
            "278    male   7.0      4      1      382652   29.1250      NaN        Q  \n",
            "297  female   2.0      1      2      113781  151.5500  C22 C26        S  \n",
            "352    male  15.0      1      1        2695    7.2292      NaN        C  \n",
            "374  female   3.0      3      1      349909   21.0750      NaN        S  \n",
            "386    male   1.0      5      2     CA 2144   46.9000      NaN        S  \n",
            "419  female  10.0      0      2      345773   24.1500      NaN        S  \n",
            "480    male   9.0      5      2     CA 2144   46.9000      NaN        S  \n",
            "541  female   9.0      4      2      347082   31.2750      NaN        S  \n",
            "542  female  11.0      4      2      347082   31.2750      NaN        S  \n",
            "634  female   9.0      3      2      347088   27.9000      NaN        S  \n",
            "642  female   2.0      3      2      347088   27.9000      NaN        S  \n",
            "683    male  14.0      5      2     CA 2144   46.9000      NaN        S  \n",
            "686    male  14.0      4      1     3101295   39.6875      NaN        S  \n",
            "731    male  11.0      0      0        2699   18.7875      NaN        C  \n",
            "787    male   8.0      4      1      382652   29.1250      NaN        Q  \n",
            "813  female   6.0      4      2      347082   31.2750      NaN        S  \n",
            "819    male  10.0      3      2      347088   27.9000      NaN        S  \n",
            "824    male   2.0      4      1     3101295   39.6875      NaN        S  \n",
            "850    male   4.0      4      2      347082   31.2750      NaN        S  \n",
            "852  female   9.0      1      1        2678   15.2458      NaN        C  \n"
          ]
        },
        {
          "output_type": "execute_result",
          "data": {
            "text/plain": [
              "<seaborn.axisgrid.PairGrid at 0x7fabee68a890>"
            ]
          },
          "metadata": {},
          "execution_count": 110
        },
        {
          "output_type": "display_data",
          "data": {
            "text/plain": [
              "<Figure size 1260x1260 with 56 Axes>"
            ],
            "image/png": "[encoded data removed]"
          },
          "metadata": {
            "needs_background": "light"
          }
        }
      ]
    },
    {
      "cell_type": "code",
      "source": [
        "#SURVIVOR KIDS MALES AND FEMALES DETERMINATION\n",
        "SURVIVEDMALEKID = traindata[(traindata['Sex'] == \"male\") & (traindata['Age'] <= 15) & (traindata['Survived'] == 1)]\n",
        "print(SURVIVEDMALEKID)"
      ],
      "metadata": {
        "colab": {
          "base_uri": "https://localhost:8080/"
        },
        "id": "0DYVoDPRF8S8",
        "outputId": "3de3ad98-d438-4105-e52d-7fd9db8d0ef7"
      },
      "execution_count": 122,
      "outputs": [
        {
          "output_type": "stream",
          "name": "stdout",
          "text": [
            "     PassengerId  Survived  Pclass  \\\n",
            "78            79         1       2   \n",
            "125          126         1       3   \n",
            "165          166         1       3   \n",
            "183          184         1       2   \n",
            "193          194         1       2   \n",
            "261          262         1       3   \n",
            "305          306         1       1   \n",
            "340          341         1       2   \n",
            "348          349         1       3   \n",
            "407          408         1       2   \n",
            "445          446         1       1   \n",
            "489          490         1       3   \n",
            "549          550         1       2   \n",
            "751          752         1       3   \n",
            "755          756         1       2   \n",
            "788          789         1       3   \n",
            "802          803         1       1   \n",
            "803          804         1       3   \n",
            "827          828         1       2   \n",
            "831          832         1       2   \n",
            "869          870         1       3   \n",
            "\n",
            "                                                Name   Sex    Age  SibSp  \\\n",
            "78                     Caldwell, Master. Alden Gates  male   0.83      0   \n",
            "125                     Nicola-Yarred, Master. Elias  male  12.00      1   \n",
            "165  Goldsmith, Master. Frank John William \"Frankie\"  male   9.00      0   \n",
            "183                        Becker, Master. Richard F  male   1.00      2   \n",
            "193                       Navratil, Master. Michel M  male   3.00      1   \n",
            "261                Asplund, Master. Edvin Rojj Felix  male   3.00      4   \n",
            "305                   Allison, Master. Hudson Trevor  male   0.92      1   \n",
            "340                   Navratil, Master. Edmond Roger  male   2.00      1   \n",
            "348           Coutts, Master. William Loch \"William\"  male   3.00      1   \n",
            "407                   Richards, Master. William Rowe  male   3.00      1   \n",
            "445                        Dodge, Master. Washington  male   4.00      0   \n",
            "489            Coutts, Master. Eden Leslie \"Neville\"  male   9.00      1   \n",
            "549                   Davies, Master. John Morgan Jr  male   8.00      1   \n",
            "751                              Moor, Master. Meier  male   6.00      0   \n",
            "755                        Hamalainen, Master. Viljo  male   0.67      1   \n",
            "788                       Dean, Master. Bertram Vere  male   1.00      1   \n",
            "802              Carter, Master. William Thornton II  male  11.00      1   \n",
            "803                  Thomas, Master. Assad Alexander  male   0.42      0   \n",
            "827                            Mallet, Master. Andre  male   1.00      0   \n",
            "831                  Richards, Master. George Sibley  male   0.83      1   \n",
            "869                  Johnson, Master. Harold Theodor  male   4.00      1   \n",
            "\n",
            "     Parch           Ticket      Fare    Cabin Embarked  \n",
            "78       2           248738   29.0000      NaN        S  \n",
            "125      0             2651   11.2417      NaN        C  \n",
            "165      2           363291   20.5250      NaN        S  \n",
            "183      1           230136   39.0000       F4        S  \n",
            "193      1           230080   26.0000       F2        S  \n",
            "261      2           347077   31.3875      NaN        S  \n",
            "305      2           113781  151.5500  C22 C26        S  \n",
            "340      1           230080   26.0000       F2        S  \n",
            "348      1       C.A. 37671   15.9000      NaN        S  \n",
            "407      1            29106   18.7500      NaN        S  \n",
            "445      2            33638   81.8583      A34        S  \n",
            "489      1       C.A. 37671   15.9000      NaN        S  \n",
            "549      1       C.A. 33112   36.7500      NaN        S  \n",
            "751      1           392096   12.4750     E121        S  \n",
            "755      1           250649   14.5000      NaN        S  \n",
            "788      2        C.A. 2315   20.5750      NaN        S  \n",
            "802      2           113760  120.0000  B96 B98        S  \n",
            "803      1             2625    8.5167      NaN        C  \n",
            "827      2  S.C./PARIS 2079   37.0042      NaN        C  \n",
            "831      1            29106   18.7500      NaN        S  \n",
            "869      1           347742   11.1333      NaN        S  \n"
          ]
        }
      ]
    },
    {
      "cell_type": "code",
      "source": [
        "#SURVIVOR KIDS feMALES AND FEMALES DETERMINATION\n",
        "SURVIVEDfeMALEKID = traindata[(traindata['Sex'] == \"female\") & (traindata['Age'] <= 15) & (traindata['Survived'] == 1)]\n",
        "print(SURVIVEDfeMALEKID)"
      ],
      "metadata": {
        "colab": {
          "base_uri": "https://localhost:8080/"
        },
        "id": "FK7iH702GkEW",
        "outputId": "42654ab7-74ee-4a21-e7da-e8a1aa3ad024"
      },
      "execution_count": 123,
      "outputs": [
        {
          "output_type": "stream",
          "name": "stdout",
          "text": [
            "     PassengerId  Survived  Pclass                                      Name  \\\n",
            "9             10         1       2       Nasser, Mrs. Nicholas (Adele Achem)   \n",
            "10            11         1       3           Sandstrom, Miss. Marguerite Rut   \n",
            "22            23         1       3               McGowan, Miss. Anna \"Annie\"   \n",
            "39            40         1       3               Nicola-Yarred, Miss. Jamila   \n",
            "43            44         1       2  Laroche, Miss. Simonne Marie Anne Andree   \n",
            "58            59         1       2              West, Miss. Constance Mirium   \n",
            "172          173         1       3              Johnson, Miss. Eleanor Ileen   \n",
            "184          185         1       3       Kink-Heilmann, Miss. Luise Gretchen   \n",
            "233          234         1       3            Asplund, Miss. Lillian Gertrud   \n",
            "237          238         1       2          Collyer, Miss. Marjorie \"Lottie\"   \n",
            "381          382         1       3               Nakid, Miss. Maria (\"Mary\")   \n",
            "435          436         1       1                 Carter, Miss. Lucile Polk   \n",
            "446          447         1       2         Mellinger, Miss. Madeleine Violet   \n",
            "448          449         1       3            Baclini, Miss. Marie Catherine   \n",
            "469          470         1       3             Baclini, Miss. Helene Barbara   \n",
            "479          480         1       3                  Hirvonen, Miss. Hildur E   \n",
            "530          531         1       2                  Quick, Miss. Phyllis May   \n",
            "535          536         1       2                    Hart, Miss. Eva Miriam   \n",
            "618          619         1       2               Becker, Miss. Marion Louise   \n",
            "644          645         1       3                    Baclini, Miss. Eugenie   \n",
            "689          690         1       1         Madill, Miss. Georgette Alexandra   \n",
            "691          692         1       3                        Karun, Miss. Manca   \n",
            "720          721         1       2         Harper, Miss. Annie Jessie \"Nina\"   \n",
            "750          751         1       2                         Wells, Miss. Joan   \n",
            "777          778         1       3             Emanuel, Miss. Virginia Ethel   \n",
            "780          781         1       3                      Ayoub, Miss. Banoura   \n",
            "830          831         1       3   Yasbeck, Mrs. Antoni (Selini Alexander)   \n",
            "875          876         1       3          Najib, Miss. Adele Kiamie \"Jane\"   \n",
            "\n",
            "        Sex    Age  SibSp  Parch         Ticket      Fare    Cabin Embarked  \n",
            "9    female  14.00      1      0         237736   30.0708      NaN        C  \n",
            "10   female   4.00      1      1        PP 9549   16.7000       G6        S  \n",
            "22   female  15.00      0      0         330923    8.0292      NaN        Q  \n",
            "39   female  14.00      1      0           2651   11.2417      NaN        C  \n",
            "43   female   3.00      1      2  SC/Paris 2123   41.5792      NaN        C  \n",
            "58   female   5.00      1      2     C.A. 34651   27.7500      NaN        S  \n",
            "172  female   1.00      1      1         347742   11.1333      NaN        S  \n",
            "184  female   4.00      0      2         315153   22.0250      NaN        S  \n",
            "233  female   5.00      4      2         347077   31.3875      NaN        S  \n",
            "237  female   8.00      0      2     C.A. 31921   26.2500      NaN        S  \n",
            "381  female   1.00      0      2           2653   15.7417      NaN        C  \n",
            "435  female  14.00      1      2         113760  120.0000  B96 B98        S  \n",
            "446  female  13.00      0      1         250644   19.5000      NaN        S  \n",
            "448  female   5.00      2      1           2666   19.2583      NaN        C  \n",
            "469  female   0.75      2      1           2666   19.2583      NaN        C  \n",
            "479  female   2.00      0      1        3101298   12.2875      NaN        S  \n",
            "530  female   2.00      1      1          26360   26.0000      NaN        S  \n",
            "535  female   7.00      0      2   F.C.C. 13529   26.2500      NaN        S  \n",
            "618  female   4.00      2      1         230136   39.0000       F4        S  \n",
            "644  female   0.75      2      1           2666   19.2583      NaN        C  \n",
            "689  female  15.00      0      1          24160  211.3375       B5        S  \n",
            "691  female   4.00      0      1         349256   13.4167      NaN        C  \n",
            "720  female   6.00      0      1         248727   33.0000      NaN        S  \n",
            "750  female   4.00      1      1          29103   23.0000      NaN        S  \n",
            "777  female   5.00      0      0         364516   12.4750      NaN        S  \n",
            "780  female  13.00      0      0           2687    7.2292      NaN        C  \n",
            "830  female  15.00      1      0           2659   14.4542      NaN        C  \n",
            "875  female  15.00      0      0           2667    7.2250      NaN        C  \n"
          ]
        }
      ]
    },
    {
      "cell_type": "code",
      "source": [
        "#nonnonSURVIVOR KIDS feMALES AND FEMALES DETERMINATION\n",
        "nonSURVIVEDfeMALEKID = traindata[(traindata['Sex'] == \"female\") & (traindata['Age'] <= 15) & (traindata['Survived'] == 0)]\n",
        "print(nonSURVIVEDfeMALEKID)"
      ],
      "metadata": {
        "colab": {
          "base_uri": "https://localhost:8080/"
        },
        "id": "uNi2EaPmGzs5",
        "outputId": "bcada858-edd4-4821-cab3-6e523bd297c4"
      },
      "execution_count": 124,
      "outputs": [
        {
          "output_type": "stream",
          "name": "stdout",
          "text": [
            "     PassengerId  Survived  Pclass                                  Name  \\\n",
            "14            15         0       3  Vestrom, Miss. Hulda Amanda Adolfina   \n",
            "24            25         0       3         Palsson, Miss. Torborg Danira   \n",
            "111          112         0       3                  Zabour, Miss. Hileni   \n",
            "119          120         0       3     Andersson, Miss. Ellis Anna Maria   \n",
            "147          148         0       3      Ford, Miss. Robina Maggie \"Ruby\"   \n",
            "205          206         0       3            Strom, Miss. Telma Matilda   \n",
            "297          298         0       1          Allison, Miss. Helen Loraine   \n",
            "374          375         0       3            Palsson, Miss. Stina Viola   \n",
            "419          420         0       3             Van Impe, Miss. Catharina   \n",
            "541          542         0       3  Andersson, Miss. Ingeborg Constanzia   \n",
            "542          543         0       3     Andersson, Miss. Sigrid Elisabeth   \n",
            "634          635         0       3                    Skoog, Miss. Mabel   \n",
            "642          643         0       3         Skoog, Miss. Margit Elizabeth   \n",
            "813          814         0       3    Andersson, Miss. Ebba Iris Alfrida   \n",
            "852          853         0       3               Boulos, Miss. Nourelain   \n",
            "\n",
            "        Sex   Age  SibSp  Parch      Ticket      Fare    Cabin Embarked  \n",
            "14   female  14.0      0      0      350406    7.8542      NaN        S  \n",
            "24   female   8.0      3      1      349909   21.0750      NaN        S  \n",
            "111  female  14.5      1      0        2665   14.4542      NaN        C  \n",
            "119  female   2.0      4      2      347082   31.2750      NaN        S  \n",
            "147  female   9.0      2      2  W./C. 6608   34.3750      NaN        S  \n",
            "205  female   2.0      0      1      347054   10.4625       G6        S  \n",
            "297  female   2.0      1      2      113781  151.5500  C22 C26        S  \n",
            "374  female   3.0      3      1      349909   21.0750      NaN        S  \n",
            "419  female  10.0      0      2      345773   24.1500      NaN        S  \n",
            "541  female   9.0      4      2      347082   31.2750      NaN        S  \n",
            "542  female  11.0      4      2      347082   31.2750      NaN        S  \n",
            "634  female   9.0      3      2      347088   27.9000      NaN        S  \n",
            "642  female   2.0      3      2      347088   27.9000      NaN        S  \n",
            "813  female   6.0      4      2      347082   31.2750      NaN        S  \n",
            "852  female   9.0      1      1        2678   15.2458      NaN        C  \n"
          ]
        }
      ]
    },
    {
      "cell_type": "code",
      "source": [
        "#nonnonSURVIVOR KIDS MALES AND FEMALES DETERMINATION\n",
        "nonSURVIVEDMALEKID = traindata[(traindata['Sex'] == \"female\") & (traindata['Age'] <= 15) & (traindata['Survived'] == 0)]\n",
        "print(nonSURVIVEDMALEKID)"
      ],
      "metadata": {
        "colab": {
          "base_uri": "https://localhost:8080/"
        },
        "id": "F51jkLp7HC6Z",
        "outputId": "84088cc5-b430-4248-e14c-fcc93074a71f"
      },
      "execution_count": 125,
      "outputs": [
        {
          "output_type": "stream",
          "name": "stdout",
          "text": [
            "     PassengerId  Survived  Pclass                                  Name  \\\n",
            "14            15         0       3  Vestrom, Miss. Hulda Amanda Adolfina   \n",
            "24            25         0       3         Palsson, Miss. Torborg Danira   \n",
            "111          112         0       3                  Zabour, Miss. Hileni   \n",
            "119          120         0       3     Andersson, Miss. Ellis Anna Maria   \n",
            "147          148         0       3      Ford, Miss. Robina Maggie \"Ruby\"   \n",
            "205          206         0       3            Strom, Miss. Telma Matilda   \n",
            "297          298         0       1          Allison, Miss. Helen Loraine   \n",
            "374          375         0       3            Palsson, Miss. Stina Viola   \n",
            "419          420         0       3             Van Impe, Miss. Catharina   \n",
            "541          542         0       3  Andersson, Miss. Ingeborg Constanzia   \n",
            "542          543         0       3     Andersson, Miss. Sigrid Elisabeth   \n",
            "634          635         0       3                    Skoog, Miss. Mabel   \n",
            "642          643         0       3         Skoog, Miss. Margit Elizabeth   \n",
            "813          814         0       3    Andersson, Miss. Ebba Iris Alfrida   \n",
            "852          853         0       3               Boulos, Miss. Nourelain   \n",
            "\n",
            "        Sex   Age  SibSp  Parch      Ticket      Fare    Cabin Embarked  \n",
            "14   female  14.0      0      0      350406    7.8542      NaN        S  \n",
            "24   female   8.0      3      1      349909   21.0750      NaN        S  \n",
            "111  female  14.5      1      0        2665   14.4542      NaN        C  \n",
            "119  female   2.0      4      2      347082   31.2750      NaN        S  \n",
            "147  female   9.0      2      2  W./C. 6608   34.3750      NaN        S  \n",
            "205  female   2.0      0      1      347054   10.4625       G6        S  \n",
            "297  female   2.0      1      2      113781  151.5500  C22 C26        S  \n",
            "374  female   3.0      3      1      349909   21.0750      NaN        S  \n",
            "419  female  10.0      0      2      345773   24.1500      NaN        S  \n",
            "541  female   9.0      4      2      347082   31.2750      NaN        S  \n",
            "542  female  11.0      4      2      347082   31.2750      NaN        S  \n",
            "634  female   9.0      3      2      347088   27.9000      NaN        S  \n",
            "642  female   2.0      3      2      347088   27.9000      NaN        S  \n",
            "813  female   6.0      4      2      347082   31.2750      NaN        S  \n",
            "852  female   9.0      1      1        2678   15.2458      NaN        C  \n"
          ]
        }
      ]
    },
    {
      "cell_type": "code",
      "source": [
        "#CAN WE DETERMINE WHO SURVIVED FROM THE males AND WHO DID NOT SURVIVE?\n",
        "SURVIVEDMALES= traindata[(traindata['Sex']== \"male\" ) & (traindata['Survived'] == 1)]\n",
        "print(SURVIVEDMALES)"
      ],
      "metadata": {
        "colab": {
          "base_uri": "https://localhost:8080/"
        },
        "id": "0DQfONq4FuDt",
        "outputId": "33128718-1669-4087-cc35-c2e4215cdae1"
      },
      "execution_count": 121,
      "outputs": [
        {
          "output_type": "stream",
          "name": "stdout",
          "text": [
            "     PassengerId  Survived  Pclass                             Name   Sex  \\\n",
            "17            18         1       2     Williams, Mr. Charles Eugene  male   \n",
            "21            22         1       2            Beesley, Mr. Lawrence  male   \n",
            "23            24         1       1     Sloper, Mr. William Thompson  male   \n",
            "36            37         1       3                 Mamee, Mr. Hanna  male   \n",
            "55            56         1       1                Woolner, Mr. Hugh  male   \n",
            "..           ...       ...     ...                              ...   ...   \n",
            "838          839         1       3                  Chip, Mr. Chang  male   \n",
            "839          840         1       1             Marechal, Mr. Pierre  male   \n",
            "857          858         1       1           Daly, Mr. Peter Denis   male   \n",
            "869          870         1       3  Johnson, Master. Harold Theodor  male   \n",
            "889          890         1       1            Behr, Mr. Karl Howell  male   \n",
            "\n",
            "           Age  SibSp  Parch  Ticket     Fare Cabin Embarked  \n",
            "17   29.699118      0      0  244373  13.0000   NaN        S  \n",
            "21   34.000000      0      0  248698  13.0000   D56        S  \n",
            "23   28.000000      0      0  113788  35.5000    A6        S  \n",
            "36   29.699118      0      0    2677   7.2292   NaN        C  \n",
            "55   29.699118      0      0   19947  35.5000   C52        S  \n",
            "..         ...    ...    ...     ...      ...   ...      ...  \n",
            "838  32.000000      0      0    1601  56.4958   NaN        S  \n",
            "839  29.699118      0      0   11774  29.7000   C47        C  \n",
            "857  51.000000      0      0  113055  26.5500   E17        S  \n",
            "869   4.000000      1      1  347742  11.1333   NaN        S  \n",
            "889  26.000000      0      0  111369  30.0000  C148        C  \n",
            "\n",
            "[109 rows x 12 columns]\n"
          ]
        }
      ]
    },
    {
      "cell_type": "code",
      "source": [
        "#CAN WE DETERMINE WHO SURVIVED FROM THE males AND WHO DID NOT SURVIVE?\n",
        "SURVIVEDMALES= traindata[(traindata['Sex']== \"male\" ) & (traindata['Survived'] == 1)]\n",
        "print(SURVIVEDMALES)\n",
        "sns.pairplot(SURVIVEDMALES)"
      ],
      "metadata": {
        "colab": {
          "base_uri": "https://localhost:8080/",
          "height": 1000
        },
        "id": "kEhNLYD9Ehqg",
        "outputId": "d2970393-f8e7-465b-d736-07202ae09c84"
      },
      "execution_count": 119,
      "outputs": [
        {
          "output_type": "stream",
          "name": "stdout",
          "text": [
            "     PassengerId  Survived  Pclass                             Name   Sex  \\\n",
            "17            18         1       2     Williams, Mr. Charles Eugene  male   \n",
            "21            22         1       2            Beesley, Mr. Lawrence  male   \n",
            "23            24         1       1     Sloper, Mr. William Thompson  male   \n",
            "36            37         1       3                 Mamee, Mr. Hanna  male   \n",
            "55            56         1       1                Woolner, Mr. Hugh  male   \n",
            "..           ...       ...     ...                              ...   ...   \n",
            "838          839         1       3                  Chip, Mr. Chang  male   \n",
            "839          840         1       1             Marechal, Mr. Pierre  male   \n",
            "857          858         1       1           Daly, Mr. Peter Denis   male   \n",
            "869          870         1       3  Johnson, Master. Harold Theodor  male   \n",
            "889          890         1       1            Behr, Mr. Karl Howell  male   \n",
            "\n",
            "           Age  SibSp  Parch  Ticket     Fare Cabin Embarked  \n",
            "17   29.699118      0      0  244373  13.0000   NaN        S  \n",
            "21   34.000000      0      0  248698  13.0000   D56        S  \n",
            "23   28.000000      0      0  113788  35.5000    A6        S  \n",
            "36   29.699118      0      0    2677   7.2292   NaN        C  \n",
            "55   29.699118      0      0   19947  35.5000   C52        S  \n",
            "..         ...    ...    ...     ...      ...   ...      ...  \n",
            "838  32.000000      0      0    1601  56.4958   NaN        S  \n",
            "839  29.699118      0      0   11774  29.7000   C47        C  \n",
            "857  51.000000      0      0  113055  26.5500   E17        S  \n",
            "869   4.000000      1      1  347742  11.1333   NaN        S  \n",
            "889  26.000000      0      0  111369  30.0000  C148        C  \n",
            "\n",
            "[109 rows x 12 columns]\n"
          ]
        },
        {
          "output_type": "execute_result",
          "data": {
            "text/plain": [
              "<seaborn.axisgrid.PairGrid at 0x7fabf5316310>"
            ]
          },
          "metadata": {},
          "execution_count": 119
        },
        {
          "output_type": "display_data",
          "data": {
            "text/plain": [
              "<Figure size 1260x1260 with 56 Axes>"
            ],
            "image/png": "[encoded data removed]"
          },
          "metadata": {
            "needs_background": "light"
          }
        }
      ]
    },
    {
      "cell_type": "code",
      "source": [
        "#CAN WE DETERMINE WHO  DIDN'T SURVIVE FROM THE males AND WHO DID NOT SURVIVE?\n",
        "NO_SURVIVEDMALES= traindata[(traindata['Sex']== \"male\" ) & (traindata['Survived'] == 0)]\n",
        "print(NO_SURVIVEDMALES)\n"
      ],
      "metadata": {
        "colab": {
          "base_uri": "https://localhost:8080/"
        },
        "id": "c5QGoFK4E0uV",
        "outputId": "586d3158-5eeb-429f-a174-cc7e4d0592f1"
      },
      "execution_count": 120,
      "outputs": [
        {
          "output_type": "stream",
          "name": "stdout",
          "text": [
            "     PassengerId  Survived  Pclass                            Name   Sex  \\\n",
            "0              1         0       3         Braund, Mr. Owen Harris  male   \n",
            "4              5         0       3        Allen, Mr. William Henry  male   \n",
            "5              6         0       3                Moran, Mr. James  male   \n",
            "6              7         0       1         McCarthy, Mr. Timothy J  male   \n",
            "7              8         0       3  Palsson, Master. Gosta Leonard  male   \n",
            "..           ...       ...     ...                             ...   ...   \n",
            "881          882         0       3              Markun, Mr. Johann  male   \n",
            "883          884         0       2   Banfield, Mr. Frederick James  male   \n",
            "884          885         0       3          Sutehall, Mr. Henry Jr  male   \n",
            "886          887         0       2           Montvila, Rev. Juozas  male   \n",
            "890          891         0       3             Dooley, Mr. Patrick  male   \n",
            "\n",
            "           Age  SibSp  Parch            Ticket     Fare Cabin Embarked  \n",
            "0    22.000000      1      0         A/5 21171   7.2500   NaN        S  \n",
            "4    35.000000      0      0            373450   8.0500   NaN        S  \n",
            "5    29.699118      0      0            330877   8.4583   NaN        Q  \n",
            "6    54.000000      0      0             17463  51.8625   E46        S  \n",
            "7     2.000000      3      1            349909  21.0750   NaN        S  \n",
            "..         ...    ...    ...               ...      ...   ...      ...  \n",
            "881  33.000000      0      0            349257   7.8958   NaN        S  \n",
            "883  28.000000      0      0  C.A./SOTON 34068  10.5000   NaN        S  \n",
            "884  25.000000      0      0   SOTON/OQ 392076   7.0500   NaN        S  \n",
            "886  27.000000      0      0            211536  13.0000   NaN        S  \n",
            "890  32.000000      0      0            370376   7.7500   NaN        Q  \n",
            "\n",
            "[468 rows x 12 columns]\n"
          ]
        }
      ]
    },
    {
      "cell_type": "code",
      "source": [
        "NO_SURVIVEDMALES.describe() #counting male kids in"
      ],
      "metadata": {
        "colab": {
          "base_uri": "https://localhost:8080/",
          "height": 300
        },
        "id": "_VlthxekIDzg",
        "outputId": "99899296-8f50-42d1-f62c-5222bc7d32d9"
      },
      "execution_count": 128,
      "outputs": [
        {
          "output_type": "execute_result",
          "data": {
            "text/plain": [
              "       PassengerId  Survived      Pclass         Age       SibSp       Parch  \\\n",
              "count   468.000000     468.0  468.000000  468.000000  468.000000  468.000000   \n",
              "mean    449.121795       0.0    2.476496   31.175224    0.440171    0.207265   \n",
              "std     260.365260       0.0    0.761411   12.350532    1.138507    0.601382   \n",
              "min       1.000000       0.0    1.000000    1.000000    0.000000    0.000000   \n",
              "25%     212.500000       0.0    2.000000   24.000000    0.000000    0.000000   \n",
              "50%     461.000000       0.0    3.000000   29.699118    0.000000    0.000000   \n",
              "75%     678.500000       0.0    3.000000   36.000000    0.000000    0.000000   \n",
              "max     891.000000       0.0    3.000000   74.000000    8.000000    5.000000   \n",
              "\n",
              "             Fare  \n",
              "count  468.000000  \n",
              "mean    21.960993  \n",
              "std     32.409799  \n",
              "min      0.000000  \n",
              "25%      7.795800  \n",
              "50%      9.416650  \n",
              "75%     26.000000  \n",
              "max    263.000000  "
            ],
            "text/html": [
              "\n",
              "  <div id=\"df-f93e2225-c06b-41c5-9678-0fb43239c3b6\">\n",
              "    <div class=\"colab-df-container\">\n",
              "      <div>\n",
              "<style scoped>\n",
              "    .dataframe tbody tr th:only-of-type {\n",
              "        vertical-align: middle;\n",
              "    }\n",
              "\n",
              "    .dataframe tbody tr th {\n",
              "        vertical-align: top;\n",
              "    }\n",
              "\n",
              "    .dataframe thead th {\n",
              "        text-align: right;\n",
              "    }\n",
              "</style>\n",
              "<table border=\"1\" class=\"dataframe\">\n",
              "  <thead>\n",
              "    <tr style=\"text-align: right;\">\n",
              "      <th></th>\n",
              "      <th>PassengerId</th>\n",
              "      <th>Survived</th>\n",
              "      <th>Pclass</th>\n",
              "      <th>Age</th>\n",
              "      <th>SibSp</th>\n",
              "      <th>Parch</th>\n",
              "      <th>Fare</th>\n",
              "    </tr>\n",
              "  </thead>\n",
              "  <tbody>\n",
              "    <tr>\n",
              "      <th>count</th>\n",
              "      <td>468.000000</td>\n",
              "      <td>468.0</td>\n",
              "      <td>468.000000</td>\n",
              "      <td>468.000000</td>\n",
              "      <td>468.000000</td>\n",
              "      <td>468.000000</td>\n",
              "      <td>468.000000</td>\n",
              "    </tr>\n",
              "    <tr>\n",
              "      <th>mean</th>\n",
              "      <td>449.121795</td>\n",
              "      <td>0.0</td>\n",
              "      <td>2.476496</td>\n",
              "      <td>31.175224</td>\n",
              "      <td>0.440171</td>\n",
              "      <td>0.207265</td>\n",
              "      <td>21.960993</td>\n",
              "    </tr>\n",
              "    <tr>\n",
              "      <th>std</th>\n",
              "      <td>260.365260</td>\n",
              "      <td>0.0</td>\n",
              "      <td>0.761411</td>\n",
              "      <td>12.350532</td>\n",
              "      <td>1.138507</td>\n",
              "      <td>0.601382</td>\n",
              "      <td>32.409799</td>\n",
              "    </tr>\n",
              "    <tr>\n",
              "      <th>min</th>\n",
              "      <td>1.000000</td>\n",
              "      <td>0.0</td>\n",
              "      <td>1.000000</td>\n",
              "      <td>1.000000</td>\n",
              "      <td>0.000000</td>\n",
              "      <td>0.000000</td>\n",
              "      <td>0.000000</td>\n",
              "    </tr>\n",
              "    <tr>\n",
              "      <th>25%</th>\n",
              "      <td>212.500000</td>\n",
              "      <td>0.0</td>\n",
              "      <td>2.000000</td>\n",
              "      <td>24.000000</td>\n",
              "      <td>0.000000</td>\n",
              "      <td>0.000000</td>\n",
              "      <td>7.795800</td>\n",
              "    </tr>\n",
              "    <tr>\n",
              "      <th>50%</th>\n",
              "      <td>461.000000</td>\n",
              "      <td>0.0</td>\n",
              "      <td>3.000000</td>\n",
              "      <td>29.699118</td>\n",
              "      <td>0.000000</td>\n",
              "      <td>0.000000</td>\n",
              "      <td>9.416650</td>\n",
              "    </tr>\n",
              "    <tr>\n",
              "      <th>75%</th>\n",
              "      <td>678.500000</td>\n",
              "      <td>0.0</td>\n",
              "      <td>3.000000</td>\n",
              "      <td>36.000000</td>\n",
              "      <td>0.000000</td>\n",
              "      <td>0.000000</td>\n",
              "      <td>26.000000</td>\n",
              "    </tr>\n",
              "    <tr>\n",
              "      <th>max</th>\n",
              "      <td>891.000000</td>\n",
              "      <td>0.0</td>\n",
              "      <td>3.000000</td>\n",
              "      <td>74.000000</td>\n",
              "      <td>8.000000</td>\n",
              "      <td>5.000000</td>\n",
              "      <td>263.000000</td>\n",
              "    </tr>\n",
              "  </tbody>\n",
              "</table>\n",
              "</div>\n",
              "      <button class=\"colab-df-convert\" onclick=\"convertToInteractive('df-f93e2225-c06b-41c5-9678-0fb43239c3b6')\"\n",
              "              title=\"Convert this dataframe to an interactive table.\"\n",
              "              style=\"display:none;\">\n",
              "        \n",
              "  <svg xmlns=\"http://www.w3.org/2000/svg\" height=\"24px\"viewBox=\"0 0 24 24\"\n",
              "       width=\"24px\">\n",
              "    <path d=\"M0 0h24v24H0V0z\" fill=\"none\"/>\n",
              "    <path d=\"M18.56 5.44l.94 2.06.94-2.06 2.06-.94-2.06-.94-.94-2.06-.94 2.06-2.06.94zm-11 1L8.5 8.5l.94-2.06 2.06-.94-2.06-.94L8.5 2.5l-.94 2.06-2.06.94zm10 10l.94 2.06.94-2.06 2.06-.94-2.06-.94-.94-2.06-.94 2.06-2.06.94z\"/><path d=\"M17.41 7.96l-1.37-1.37c-.4-.4-.92-.59-1.43-.59-.52 0-1.04.2-1.43.59L10.3 9.45l-7.72 7.72c-.78.78-.78 2.05 0 2.83L4 21.41c.39.39.9.59 1.41.59.51 0 1.02-.2 1.41-.59l7.78-7.78 2.81-2.81c.8-.78.8-2.07 0-2.86zM5.41 20L4 18.59l7.72-7.72 1.47 1.35L5.41 20z\"/>\n",
              "  </svg>\n",
              "      </button>\n",
              "      \n",
              "  <style>\n",
              "    .colab-df-container {\n",
              "      display:flex;\n",
              "      flex-wrap:wrap;\n",
              "      gap: 12px;\n",
              "    }\n",
              "\n",
              "    .colab-df-convert {\n",
              "      background-color: #E8F0FE;\n",
              "      border: none;\n",
              "      border-radius: 50%;\n",
              "      cursor: pointer;\n",
              "      display: none;\n",
              "      fill: #1967D2;\n",
              "      height: 32px;\n",
              "      padding: 0 0 0 0;\n",
              "      width: 32px;\n",
              "    }\n",
              "\n",
              "    .colab-df-convert:hover {\n",
              "      background-color: #E2EBFA;\n",
              "      box-shadow: 0px 1px 2px rgba(60, 64, 67, 0.3), 0px 1px 3px 1px rgba(60, 64, 67, 0.15);\n",
              "      fill: #174EA6;\n",
              "    }\n",
              "\n",
              "    [theme=dark] .colab-df-convert {\n",
              "      background-color: #3B4455;\n",
              "      fill: #D2E3FC;\n",
              "    }\n",
              "\n",
              "    [theme=dark] .colab-df-convert:hover {\n",
              "      background-color: #434B5C;\n",
              "      box-shadow: 0px 1px 3px 1px rgba(0, 0, 0, 0.15);\n",
              "      filter: drop-shadow(0px 1px 2px rgba(0, 0, 0, 0.3));\n",
              "      fill: #FFFFFF;\n",
              "    }\n",
              "  </style>\n",
              "\n",
              "      <script>\n",
              "        const buttonEl =\n",
              "          document.querySelector('#df-f93e2225-c06b-41c5-9678-0fb43239c3b6 button.colab-df-convert');\n",
              "        buttonEl.style.display =\n",
              "          google.colab.kernel.accessAllowed ? 'block' : 'none';\n",
              "\n",
              "        async function convertToInteractive(key) {\n",
              "          const element = document.querySelector('#df-f93e2225-c06b-41c5-9678-0fb43239c3b6');\n",
              "          const dataTable =\n",
              "            await google.colab.kernel.invokeFunction('convertToInteractive',\n",
              "                                                     [key], {});\n",
              "          if (!dataTable) return;\n",
              "\n",
              "          const docLinkHtml = 'Like what you see? Visit the ' +\n",
              "            '<a target=\"_blank\" href=https://colab.research.google.com/notebooks/data_table.ipynb>data table notebook</a>'\n",
              "            + ' to learn more about interactive tables.';\n",
              "          element.innerHTML = '';\n",
              "          dataTable['output_type'] = 'display_data';\n",
              "          await google.colab.output.renderOutput(dataTable, element);\n",
              "          const docLink = document.createElement('div');\n",
              "          docLink.innerHTML = docLinkHtml;\n",
              "          element.appendChild(docLink);\n",
              "        }\n",
              "      </script>\n",
              "    </div>\n",
              "  </div>\n",
              "  "
            ]
          },
          "metadata": {},
          "execution_count": 128
        }
      ]
    },
    {
      "cell_type": "code",
      "source": [
        "drownmen = traindata[(traindata['Sex'] == \"male\") & (traindata['Age'] > 16) & (traindata['Survived'] == 0)]\n",
        "drownmen.describe()\n",
        "#without including dead male kids"
      ],
      "metadata": {
        "colab": {
          "base_uri": "https://localhost:8080/",
          "height": 300
        },
        "id": "gH_rMAAxF0KB",
        "outputId": "d6260ef4-fe65-44f9-ac0f-c704ccfe56b2"
      },
      "execution_count": 127,
      "outputs": [
        {
          "output_type": "execute_result",
          "data": {
            "text/plain": [
              "       PassengerId  Survived      Pclass         Age       SibSp       Parch  \\\n",
              "count   439.000000     439.0  439.000000  439.000000  439.000000  439.000000   \n",
              "mean    450.457859       0.0    2.446469   32.562653    0.291572    0.150342   \n",
              "std     257.409260       0.0    0.774143   11.376950    0.892228    0.536515   \n",
              "min       1.000000       0.0    1.000000   17.000000    0.000000    0.000000   \n",
              "25%     216.500000       0.0    2.000000   25.000000    0.000000    0.000000   \n",
              "50%     463.000000       0.0    3.000000   29.699118    0.000000    0.000000   \n",
              "75%     672.500000       0.0    3.000000   36.000000    0.000000    0.000000   \n",
              "max     891.000000       0.0    3.000000   74.000000    8.000000    5.000000   \n",
              "\n",
              "             Fare  \n",
              "count  439.000000  \n",
              "mean    21.562611  \n",
              "std     33.265697  \n",
              "min      0.000000  \n",
              "25%      7.775000  \n",
              "50%      8.662500  \n",
              "75%     24.150000  \n",
              "max    263.000000  "
            ],
            "text/html": [
              "\n",
              "  <div id=\"df-39d7629f-bbcf-4e34-800f-e24b28d81736\">\n",
              "    <div class=\"colab-df-container\">\n",
              "      <div>\n",
              "<style scoped>\n",
              "    .dataframe tbody tr th:only-of-type {\n",
              "        vertical-align: middle;\n",
              "    }\n",
              "\n",
              "    .dataframe tbody tr th {\n",
              "        vertical-align: top;\n",
              "    }\n",
              "\n",
              "    .dataframe thead th {\n",
              "        text-align: right;\n",
              "    }\n",
              "</style>\n",
              "<table border=\"1\" class=\"dataframe\">\n",
              "  <thead>\n",
              "    <tr style=\"text-align: right;\">\n",
              "      <th></th>\n",
              "      <th>PassengerId</th>\n",
              "      <th>Survived</th>\n",
              "      <th>Pclass</th>\n",
              "      <th>Age</th>\n",
              "      <th>SibSp</th>\n",
              "      <th>Parch</th>\n",
              "      <th>Fare</th>\n",
              "    </tr>\n",
              "  </thead>\n",
              "  <tbody>\n",
              "    <tr>\n",
              "      <th>count</th>\n",
              "      <td>439.000000</td>\n",
              "      <td>439.0</td>\n",
              "      <td>439.000000</td>\n",
              "      <td>439.000000</td>\n",
              "      <td>439.000000</td>\n",
              "      <td>439.000000</td>\n",
              "      <td>439.000000</td>\n",
              "    </tr>\n",
              "    <tr>\n",
              "      <th>mean</th>\n",
              "      <td>450.457859</td>\n",
              "      <td>0.0</td>\n",
              "      <td>2.446469</td>\n",
              "      <td>32.562653</td>\n",
              "      <td>0.291572</td>\n",
              "      <td>0.150342</td>\n",
              "      <td>21.562611</td>\n",
              "    </tr>\n",
              "    <tr>\n",
              "      <th>std</th>\n",
              "      <td>257.409260</td>\n",
              "      <td>0.0</td>\n",
              "      <td>0.774143</td>\n",
              "      <td>11.376950</td>\n",
              "      <td>0.892228</td>\n",
              "      <td>0.536515</td>\n",
              "      <td>33.265697</td>\n",
              "    </tr>\n",
              "    <tr>\n",
              "      <th>min</th>\n",
              "      <td>1.000000</td>\n",
              "      <td>0.0</td>\n",
              "      <td>1.000000</td>\n",
              "      <td>17.000000</td>\n",
              "      <td>0.000000</td>\n",
              "      <td>0.000000</td>\n",
              "      <td>0.000000</td>\n",
              "    </tr>\n",
              "    <tr>\n",
              "      <th>25%</th>\n",
              "      <td>216.500000</td>\n",
              "      <td>0.0</td>\n",
              "      <td>2.000000</td>\n",
              "      <td>25.000000</td>\n",
              "      <td>0.000000</td>\n",
              "      <td>0.000000</td>\n",
              "      <td>7.775000</td>\n",
              "    </tr>\n",
              "    <tr>\n",
              "      <th>50%</th>\n",
              "      <td>463.000000</td>\n",
              "      <td>0.0</td>\n",
              "      <td>3.000000</td>\n",
              "      <td>29.699118</td>\n",
              "      <td>0.000000</td>\n",
              "      <td>0.000000</td>\n",
              "      <td>8.662500</td>\n",
              "    </tr>\n",
              "    <tr>\n",
              "      <th>75%</th>\n",
              "      <td>672.500000</td>\n",
              "      <td>0.0</td>\n",
              "      <td>3.000000</td>\n",
              "      <td>36.000000</td>\n",
              "      <td>0.000000</td>\n",
              "      <td>0.000000</td>\n",
              "      <td>24.150000</td>\n",
              "    </tr>\n",
              "    <tr>\n",
              "      <th>max</th>\n",
              "      <td>891.000000</td>\n",
              "      <td>0.0</td>\n",
              "      <td>3.000000</td>\n",
              "      <td>74.000000</td>\n",
              "      <td>8.000000</td>\n",
              "      <td>5.000000</td>\n",
              "      <td>263.000000</td>\n",
              "    </tr>\n",
              "  </tbody>\n",
              "</table>\n",
              "</div>\n",
              "      <button class=\"colab-df-convert\" onclick=\"convertToInteractive('df-39d7629f-bbcf-4e34-800f-e24b28d81736')\"\n",
              "              title=\"Convert this dataframe to an interactive table.\"\n",
              "              style=\"display:none;\">\n",
              "        \n",
              "  <svg xmlns=\"http://www.w3.org/2000/svg\" height=\"24px\"viewBox=\"0 0 24 24\"\n",
              "       width=\"24px\">\n",
              "    <path d=\"M0 0h24v24H0V0z\" fill=\"none\"/>\n",
              "    <path d=\"M18.56 5.44l.94 2.06.94-2.06 2.06-.94-2.06-.94-.94-2.06-.94 2.06-2.06.94zm-11 1L8.5 8.5l.94-2.06 2.06-.94-2.06-.94L8.5 2.5l-.94 2.06-2.06.94zm10 10l.94 2.06.94-2.06 2.06-.94-2.06-.94-.94-2.06-.94 2.06-2.06.94z\"/><path d=\"M17.41 7.96l-1.37-1.37c-.4-.4-.92-.59-1.43-.59-.52 0-1.04.2-1.43.59L10.3 9.45l-7.72 7.72c-.78.78-.78 2.05 0 2.83L4 21.41c.39.39.9.59 1.41.59.51 0 1.02-.2 1.41-.59l7.78-7.78 2.81-2.81c.8-.78.8-2.07 0-2.86zM5.41 20L4 18.59l7.72-7.72 1.47 1.35L5.41 20z\"/>\n",
              "  </svg>\n",
              "      </button>\n",
              "      \n",
              "  <style>\n",
              "    .colab-df-container {\n",
              "      display:flex;\n",
              "      flex-wrap:wrap;\n",
              "      gap: 12px;\n",
              "    }\n",
              "\n",
              "    .colab-df-convert {\n",
              "      background-color: #E8F0FE;\n",
              "      border: none;\n",
              "      border-radius: 50%;\n",
              "      cursor: pointer;\n",
              "      display: none;\n",
              "      fill: #1967D2;\n",
              "      height: 32px;\n",
              "      padding: 0 0 0 0;\n",
              "      width: 32px;\n",
              "    }\n",
              "\n",
              "    .colab-df-convert:hover {\n",
              "      background-color: #E2EBFA;\n",
              "      box-shadow: 0px 1px 2px rgba(60, 64, 67, 0.3), 0px 1px 3px 1px rgba(60, 64, 67, 0.15);\n",
              "      fill: #174EA6;\n",
              "    }\n",
              "\n",
              "    [theme=dark] .colab-df-convert {\n",
              "      background-color: #3B4455;\n",
              "      fill: #D2E3FC;\n",
              "    }\n",
              "\n",
              "    [theme=dark] .colab-df-convert:hover {\n",
              "      background-color: #434B5C;\n",
              "      box-shadow: 0px 1px 3px 1px rgba(0, 0, 0, 0.15);\n",
              "      filter: drop-shadow(0px 1px 2px rgba(0, 0, 0, 0.3));\n",
              "      fill: #FFFFFF;\n",
              "    }\n",
              "  </style>\n",
              "\n",
              "      <script>\n",
              "        const buttonEl =\n",
              "          document.querySelector('#df-39d7629f-bbcf-4e34-800f-e24b28d81736 button.colab-df-convert');\n",
              "        buttonEl.style.display =\n",
              "          google.colab.kernel.accessAllowed ? 'block' : 'none';\n",
              "\n",
              "        async function convertToInteractive(key) {\n",
              "          const element = document.querySelector('#df-39d7629f-bbcf-4e34-800f-e24b28d81736');\n",
              "          const dataTable =\n",
              "            await google.colab.kernel.invokeFunction('convertToInteractive',\n",
              "                                                     [key], {});\n",
              "          if (!dataTable) return;\n",
              "\n",
              "          const docLinkHtml = 'Like what you see? Visit the ' +\n",
              "            '<a target=\"_blank\" href=https://colab.research.google.com/notebooks/data_table.ipynb>data table notebook</a>'\n",
              "            + ' to learn more about interactive tables.';\n",
              "          element.innerHTML = '';\n",
              "          dataTable['output_type'] = 'display_data';\n",
              "          await google.colab.output.renderOutput(dataTable, element);\n",
              "          const docLink = document.createElement('div');\n",
              "          docLink.innerHTML = docLinkHtml;\n",
              "          element.appendChild(docLink);\n",
              "        }\n",
              "      </script>\n",
              "    </div>\n",
              "  </div>\n",
              "  "
            ]
          },
          "metadata": {},
          "execution_count": 127
        }
      ]
    },
    {
      "cell_type": "code",
      "source": [
        ""
      ],
      "metadata": {
        "id": "k-SJO4xqIhCQ"
      },
      "execution_count": null,
      "outputs": []
    },
    {
      "cell_type": "code",
      "source": [
        "drownf = traindata[(traindata['Sex'] == \"female\") & (traindata['Age'] > 16) & (traindata['Survived'] == 0)]\n",
        "drownf.describe()\n",
        "#without including dead female kids"
      ],
      "metadata": {
        "colab": {
          "base_uri": "https://localhost:8080/",
          "height": 300
        },
        "id": "WYG5uFvpIVZU",
        "outputId": "0bc22e7c-cb12-4b0c-b9f4-a6af5dc05154"
      },
      "execution_count": 129,
      "outputs": [
        {
          "output_type": "execute_result",
          "data": {
            "text/plain": [
              "       PassengerId  Survived     Pclass        Age      SibSp      Parch  \\\n",
              "count    65.000000      65.0  65.000000  65.000000  65.000000  65.000000   \n",
              "mean    452.338462       0.0   2.846154  30.482846   0.923077   0.923077   \n",
              "std     258.420761       0.0   0.441261   8.925591   1.743808   1.492771   \n",
              "min      19.000000       0.0   1.000000  17.000000   0.000000   0.000000   \n",
              "25%     241.000000       0.0   3.000000  25.000000   0.000000   0.000000   \n",
              "50%     437.000000       0.0   3.000000  29.699118   0.000000   0.000000   \n",
              "75%     658.000000       0.0   3.000000  32.000000   1.000000   1.000000   \n",
              "max     889.000000       0.0   3.000000  57.000000   8.000000   6.000000   \n",
              "\n",
              "             Fare  \n",
              "count   65.000000  \n",
              "mean    20.568208  \n",
              "std     21.947119  \n",
              "min      6.750000  \n",
              "25%      8.137500  \n",
              "50%     14.454200  \n",
              "75%     25.466700  \n",
              "max    151.550000  "
            ],
            "text/html": [
              "\n",
              "  <div id=\"df-a1179bba-d249-4b45-85e2-cd01c150806f\">\n",
              "    <div class=\"colab-df-container\">\n",
              "      <div>\n",
              "<style scoped>\n",
              "    .dataframe tbody tr th:only-of-type {\n",
              "        vertical-align: middle;\n",
              "    }\n",
              "\n",
              "    .dataframe tbody tr th {\n",
              "        vertical-align: top;\n",
              "    }\n",
              "\n",
              "    .dataframe thead th {\n",
              "        text-align: right;\n",
              "    }\n",
              "</style>\n",
              "<table border=\"1\" class=\"dataframe\">\n",
              "  <thead>\n",
              "    <tr style=\"text-align: right;\">\n",
              "      <th></th>\n",
              "      <th>PassengerId</th>\n",
              "      <th>Survived</th>\n",
              "      <th>Pclass</th>\n",
              "      <th>Age</th>\n",
              "      <th>SibSp</th>\n",
              "      <th>Parch</th>\n",
              "      <th>Fare</th>\n",
              "    </tr>\n",
              "  </thead>\n",
              "  <tbody>\n",
              "    <tr>\n",
              "      <th>count</th>\n",
              "      <td>65.000000</td>\n",
              "      <td>65.0</td>\n",
              "      <td>65.000000</td>\n",
              "      <td>65.000000</td>\n",
              "      <td>65.000000</td>\n",
              "      <td>65.000000</td>\n",
              "      <td>65.000000</td>\n",
              "    </tr>\n",
              "    <tr>\n",
              "      <th>mean</th>\n",
              "      <td>452.338462</td>\n",
              "      <td>0.0</td>\n",
              "      <td>2.846154</td>\n",
              "      <td>30.482846</td>\n",
              "      <td>0.923077</td>\n",
              "      <td>0.923077</td>\n",
              "      <td>20.568208</td>\n",
              "    </tr>\n",
              "    <tr>\n",
              "      <th>std</th>\n",
              "      <td>258.420761</td>\n",
              "      <td>0.0</td>\n",
              "      <td>0.441261</td>\n",
              "      <td>8.925591</td>\n",
              "      <td>1.743808</td>\n",
              "      <td>1.492771</td>\n",
              "      <td>21.947119</td>\n",
              "    </tr>\n",
              "    <tr>\n",
              "      <th>min</th>\n",
              "      <td>19.000000</td>\n",
              "      <td>0.0</td>\n",
              "      <td>1.000000</td>\n",
              "      <td>17.000000</td>\n",
              "      <td>0.000000</td>\n",
              "      <td>0.000000</td>\n",
              "      <td>6.750000</td>\n",
              "    </tr>\n",
              "    <tr>\n",
              "      <th>25%</th>\n",
              "      <td>241.000000</td>\n",
              "      <td>0.0</td>\n",
              "      <td>3.000000</td>\n",
              "      <td>25.000000</td>\n",
              "      <td>0.000000</td>\n",
              "      <td>0.000000</td>\n",
              "      <td>8.137500</td>\n",
              "    </tr>\n",
              "    <tr>\n",
              "      <th>50%</th>\n",
              "      <td>437.000000</td>\n",
              "      <td>0.0</td>\n",
              "      <td>3.000000</td>\n",
              "      <td>29.699118</td>\n",
              "      <td>0.000000</td>\n",
              "      <td>0.000000</td>\n",
              "      <td>14.454200</td>\n",
              "    </tr>\n",
              "    <tr>\n",
              "      <th>75%</th>\n",
              "      <td>658.000000</td>\n",
              "      <td>0.0</td>\n",
              "      <td>3.000000</td>\n",
              "      <td>32.000000</td>\n",
              "      <td>1.000000</td>\n",
              "      <td>1.000000</td>\n",
              "      <td>25.466700</td>\n",
              "    </tr>\n",
              "    <tr>\n",
              "      <th>max</th>\n",
              "      <td>889.000000</td>\n",
              "      <td>0.0</td>\n",
              "      <td>3.000000</td>\n",
              "      <td>57.000000</td>\n",
              "      <td>8.000000</td>\n",
              "      <td>6.000000</td>\n",
              "      <td>151.550000</td>\n",
              "    </tr>\n",
              "  </tbody>\n",
              "</table>\n",
              "</div>\n",
              "      <button class=\"colab-df-convert\" onclick=\"convertToInteractive('df-a1179bba-d249-4b45-85e2-cd01c150806f')\"\n",
              "              title=\"Convert this dataframe to an interactive table.\"\n",
              "              style=\"display:none;\">\n",
              "        \n",
              "  <svg xmlns=\"http://www.w3.org/2000/svg\" height=\"24px\"viewBox=\"0 0 24 24\"\n",
              "       width=\"24px\">\n",
              "    <path d=\"M0 0h24v24H0V0z\" fill=\"none\"/>\n",
              "    <path d=\"M18.56 5.44l.94 2.06.94-2.06 2.06-.94-2.06-.94-.94-2.06-.94 2.06-2.06.94zm-11 1L8.5 8.5l.94-2.06 2.06-.94-2.06-.94L8.5 2.5l-.94 2.06-2.06.94zm10 10l.94 2.06.94-2.06 2.06-.94-2.06-.94-.94-2.06-.94 2.06-2.06.94z\"/><path d=\"M17.41 7.96l-1.37-1.37c-.4-.4-.92-.59-1.43-.59-.52 0-1.04.2-1.43.59L10.3 9.45l-7.72 7.72c-.78.78-.78 2.05 0 2.83L4 21.41c.39.39.9.59 1.41.59.51 0 1.02-.2 1.41-.59l7.78-7.78 2.81-2.81c.8-.78.8-2.07 0-2.86zM5.41 20L4 18.59l7.72-7.72 1.47 1.35L5.41 20z\"/>\n",
              "  </svg>\n",
              "      </button>\n",
              "      \n",
              "  <style>\n",
              "    .colab-df-container {\n",
              "      display:flex;\n",
              "      flex-wrap:wrap;\n",
              "      gap: 12px;\n",
              "    }\n",
              "\n",
              "    .colab-df-convert {\n",
              "      background-color: #E8F0FE;\n",
              "      border: none;\n",
              "      border-radius: 50%;\n",
              "      cursor: pointer;\n",
              "      display: none;\n",
              "      fill: #1967D2;\n",
              "      height: 32px;\n",
              "      padding: 0 0 0 0;\n",
              "      width: 32px;\n",
              "    }\n",
              "\n",
              "    .colab-df-convert:hover {\n",
              "      background-color: #E2EBFA;\n",
              "      box-shadow: 0px 1px 2px rgba(60, 64, 67, 0.3), 0px 1px 3px 1px rgba(60, 64, 67, 0.15);\n",
              "      fill: #174EA6;\n",
              "    }\n",
              "\n",
              "    [theme=dark] .colab-df-convert {\n",
              "      background-color: #3B4455;\n",
              "      fill: #D2E3FC;\n",
              "    }\n",
              "\n",
              "    [theme=dark] .colab-df-convert:hover {\n",
              "      background-color: #434B5C;\n",
              "      box-shadow: 0px 1px 3px 1px rgba(0, 0, 0, 0.15);\n",
              "      filter: drop-shadow(0px 1px 2px rgba(0, 0, 0, 0.3));\n",
              "      fill: #FFFFFF;\n",
              "    }\n",
              "  </style>\n",
              "\n",
              "      <script>\n",
              "        const buttonEl =\n",
              "          document.querySelector('#df-a1179bba-d249-4b45-85e2-cd01c150806f button.colab-df-convert');\n",
              "        buttonEl.style.display =\n",
              "          google.colab.kernel.accessAllowed ? 'block' : 'none';\n",
              "\n",
              "        async function convertToInteractive(key) {\n",
              "          const element = document.querySelector('#df-a1179bba-d249-4b45-85e2-cd01c150806f');\n",
              "          const dataTable =\n",
              "            await google.colab.kernel.invokeFunction('convertToInteractive',\n",
              "                                                     [key], {});\n",
              "          if (!dataTable) return;\n",
              "\n",
              "          const docLinkHtml = 'Like what you see? Visit the ' +\n",
              "            '<a target=\"_blank\" href=https://colab.research.google.com/notebooks/data_table.ipynb>data table notebook</a>'\n",
              "            + ' to learn more about interactive tables.';\n",
              "          element.innerHTML = '';\n",
              "          dataTable['output_type'] = 'display_data';\n",
              "          await google.colab.output.renderOutput(dataTable, element);\n",
              "          const docLink = document.createElement('div');\n",
              "          docLink.innerHTML = docLinkHtml;\n",
              "          element.appendChild(docLink);\n",
              "        }\n",
              "      </script>\n",
              "    </div>\n",
              "  </div>\n",
              "  "
            ]
          },
          "metadata": {},
          "execution_count": 129
        }
      ]
    },
    {
      "cell_type": "code",
      "source": [
        "\n",
        "drwnfcount= traindata[(traindata['Sex']== \"female\" ) & (traindata['Survived'] == 0)]\n",
        "print(drwnfcount)\n",
        "\n",
        "drwnfcount.info()\n",
        "drwnfcount.count()\n",
        "\n",
        "#counting female kids in"
      ],
      "metadata": {
        "colab": {
          "base_uri": "https://localhost:8080/"
        },
        "id": "by7dTEtoIoIs",
        "outputId": "f4de7106-e877-433a-e638-404613c20c1d"
      },
      "execution_count": 133,
      "outputs": [
        {
          "output_type": "stream",
          "name": "stdout",
          "text": [
            "     PassengerId  Survived  Pclass  \\\n",
            "14            15         0       3   \n",
            "18            19         0       3   \n",
            "24            25         0       3   \n",
            "38            39         0       3   \n",
            "40            41         0       3   \n",
            "..           ...       ...     ...   \n",
            "854          855         0       2   \n",
            "863          864         0       3   \n",
            "882          883         0       3   \n",
            "885          886         0       3   \n",
            "888          889         0       3   \n",
            "\n",
            "                                                  Name     Sex        Age  \\\n",
            "14                Vestrom, Miss. Hulda Amanda Adolfina  female  14.000000   \n",
            "18   Vander Planke, Mrs. Julius (Emelia Maria Vande...  female  31.000000   \n",
            "24                       Palsson, Miss. Torborg Danira  female   8.000000   \n",
            "38                  Vander Planke, Miss. Augusta Maria  female  18.000000   \n",
            "40      Ahlin, Mrs. Johan (Johanna Persdotter Larsson)  female  40.000000   \n",
            "..                                                 ...     ...        ...   \n",
            "854      Carter, Mrs. Ernest Courtenay (Lilian Hughes)  female  44.000000   \n",
            "863                  Sage, Miss. Dorothy Edith \"Dolly\"  female  29.699118   \n",
            "882                       Dahlberg, Miss. Gerda Ulrika  female  22.000000   \n",
            "885               Rice, Mrs. William (Margaret Norton)  female  39.000000   \n",
            "888           Johnston, Miss. Catherine Helen \"Carrie\"  female  29.699118   \n",
            "\n",
            "     SibSp  Parch      Ticket     Fare Cabin Embarked  \n",
            "14       0      0      350406   7.8542   NaN        S  \n",
            "18       1      0      345763  18.0000   NaN        S  \n",
            "24       3      1      349909  21.0750   NaN        S  \n",
            "38       2      0      345764  18.0000   NaN        S  \n",
            "40       1      0        7546   9.4750   NaN        S  \n",
            "..     ...    ...         ...      ...   ...      ...  \n",
            "854      1      0      244252  26.0000   NaN        S  \n",
            "863      8      2    CA. 2343  69.5500   NaN        S  \n",
            "882      0      0        7552  10.5167   NaN        S  \n",
            "885      0      5      382652  29.1250   NaN        Q  \n",
            "888      1      2  W./C. 6607  23.4500   NaN        S  \n",
            "\n",
            "[81 rows x 12 columns]\n",
            "<class 'pandas.core.frame.DataFrame'>\n",
            "Int64Index: 81 entries, 14 to 888\n",
            "Data columns (total 12 columns):\n",
            " #   Column       Non-Null Count  Dtype   \n",
            "---  ------       --------------  -----   \n",
            " 0   PassengerId  81 non-null     int64   \n",
            " 1   Survived     81 non-null     int64   \n",
            " 2   Pclass       81 non-null     int64   \n",
            " 3   Name         81 non-null     object  \n",
            " 4   Sex          81 non-null     category\n",
            " 5   Age          81 non-null     float64 \n",
            " 6   SibSp        81 non-null     int64   \n",
            " 7   Parch        81 non-null     int64   \n",
            " 8   Ticket       81 non-null     object  \n",
            " 9   Fare         81 non-null     float64 \n",
            " 10  Cabin        6 non-null      object  \n",
            " 11  Embarked     81 non-null     object  \n",
            "dtypes: category(1), float64(2), int64(5), object(4)\n",
            "memory usage: 7.8+ KB\n"
          ]
        },
        {
          "output_type": "execute_result",
          "data": {
            "text/plain": [
              "PassengerId    81\n",
              "Survived       81\n",
              "Pclass         81\n",
              "Name           81\n",
              "Sex            81\n",
              "Age            81\n",
              "SibSp          81\n",
              "Parch          81\n",
              "Ticket         81\n",
              "Fare           81\n",
              "Cabin           6\n",
              "Embarked       81\n",
              "dtype: int64"
            ]
          },
          "metadata": {},
          "execution_count": 133
        }
      ]
    },
    {
      "cell_type": "code",
      "source": [
        "drwnfcount.describe()"
      ],
      "metadata": {
        "colab": {
          "base_uri": "https://localhost:8080/",
          "height": 300
        },
        "id": "-pl5hx4ZJtYh",
        "outputId": "8e9551d2-9451-4e1f-93df-258e05ecc6a1"
      },
      "execution_count": 134,
      "outputs": [
        {
          "output_type": "execute_result",
          "data": {
            "text/plain": [
              "       PassengerId  Survived     Pclass        Age      SibSp      Parch  \\\n",
              "count    81.000000      81.0  81.000000  81.000000  81.000000  81.000000   \n",
              "mean    434.851852       0.0   2.851852  26.023272   1.209877   1.037037   \n",
              "std     263.522063       0.0   0.450309  12.234723   1.814635   1.391442   \n",
              "min      15.000000       0.0   1.000000   2.000000   0.000000   0.000000   \n",
              "25%     206.000000       0.0   3.000000  18.000000   0.000000   0.000000   \n",
              "50%     420.000000       0.0   3.000000  29.000000   1.000000   0.000000   \n",
              "75%     643.000000       0.0   3.000000  30.000000   1.000000   2.000000   \n",
              "max     889.000000       0.0   3.000000  57.000000   8.000000   6.000000   \n",
              "\n",
              "             Fare  \n",
              "count   81.000000  \n",
              "mean    23.024385  \n",
              "std     24.821287  \n",
              "min      6.750000  \n",
              "25%      8.850000  \n",
              "50%     15.245800  \n",
              "75%     27.900000  \n",
              "max    151.550000  "
            ],
            "text/html": [
              "\n",
              "  <div id=\"df-371cce2f-7c58-4bc7-be79-8545b1b3e1b6\">\n",
              "    <div class=\"colab-df-container\">\n",
              "      <div>\n",
              "<style scoped>\n",
              "    .dataframe tbody tr th:only-of-type {\n",
              "        vertical-align: middle;\n",
              "    }\n",
              "\n",
              "    .dataframe tbody tr th {\n",
              "        vertical-align: top;\n",
              "    }\n",
              "\n",
              "    .dataframe thead th {\n",
              "        text-align: right;\n",
              "    }\n",
              "</style>\n",
              "<table border=\"1\" class=\"dataframe\">\n",
              "  <thead>\n",
              "    <tr style=\"text-align: right;\">\n",
              "      <th></th>\n",
              "      <th>PassengerId</th>\n",
              "      <th>Survived</th>\n",
              "      <th>Pclass</th>\n",
              "      <th>Age</th>\n",
              "      <th>SibSp</th>\n",
              "      <th>Parch</th>\n",
              "      <th>Fare</th>\n",
              "    </tr>\n",
              "  </thead>\n",
              "  <tbody>\n",
              "    <tr>\n",
              "      <th>count</th>\n",
              "      <td>81.000000</td>\n",
              "      <td>81.0</td>\n",
              "      <td>81.000000</td>\n",
              "      <td>81.000000</td>\n",
              "      <td>81.000000</td>\n",
              "      <td>81.000000</td>\n",
              "      <td>81.000000</td>\n",
              "    </tr>\n",
              "    <tr>\n",
              "      <th>mean</th>\n",
              "      <td>434.851852</td>\n",
              "      <td>0.0</td>\n",
              "      <td>2.851852</td>\n",
              "      <td>26.023272</td>\n",
              "      <td>1.209877</td>\n",
              "      <td>1.037037</td>\n",
              "      <td>23.024385</td>\n",
              "    </tr>\n",
              "    <tr>\n",
              "      <th>std</th>\n",
              "      <td>263.522063</td>\n",
              "      <td>0.0</td>\n",
              "      <td>0.450309</td>\n",
              "      <td>12.234723</td>\n",
              "      <td>1.814635</td>\n",
              "      <td>1.391442</td>\n",
              "      <td>24.821287</td>\n",
              "    </tr>\n",
              "    <tr>\n",
              "      <th>min</th>\n",
              "      <td>15.000000</td>\n",
              "      <td>0.0</td>\n",
              "      <td>1.000000</td>\n",
              "      <td>2.000000</td>\n",
              "      <td>0.000000</td>\n",
              "      <td>0.000000</td>\n",
              "      <td>6.750000</td>\n",
              "    </tr>\n",
              "    <tr>\n",
              "      <th>25%</th>\n",
              "      <td>206.000000</td>\n",
              "      <td>0.0</td>\n",
              "      <td>3.000000</td>\n",
              "      <td>18.000000</td>\n",
              "      <td>0.000000</td>\n",
              "      <td>0.000000</td>\n",
              "      <td>8.850000</td>\n",
              "    </tr>\n",
              "    <tr>\n",
              "      <th>50%</th>\n",
              "      <td>420.000000</td>\n",
              "      <td>0.0</td>\n",
              "      <td>3.000000</td>\n",
              "      <td>29.000000</td>\n",
              "      <td>1.000000</td>\n",
              "      <td>0.000000</td>\n",
              "      <td>15.245800</td>\n",
              "    </tr>\n",
              "    <tr>\n",
              "      <th>75%</th>\n",
              "      <td>643.000000</td>\n",
              "      <td>0.0</td>\n",
              "      <td>3.000000</td>\n",
              "      <td>30.000000</td>\n",
              "      <td>1.000000</td>\n",
              "      <td>2.000000</td>\n",
              "      <td>27.900000</td>\n",
              "    </tr>\n",
              "    <tr>\n",
              "      <th>max</th>\n",
              "      <td>889.000000</td>\n",
              "      <td>0.0</td>\n",
              "      <td>3.000000</td>\n",
              "      <td>57.000000</td>\n",
              "      <td>8.000000</td>\n",
              "      <td>6.000000</td>\n",
              "      <td>151.550000</td>\n",
              "    </tr>\n",
              "  </tbody>\n",
              "</table>\n",
              "</div>\n",
              "      <button class=\"colab-df-convert\" onclick=\"convertToInteractive('df-371cce2f-7c58-4bc7-be79-8545b1b3e1b6')\"\n",
              "              title=\"Convert this dataframe to an interactive table.\"\n",
              "              style=\"display:none;\">\n",
              "        \n",
              "  <svg xmlns=\"http://www.w3.org/2000/svg\" height=\"24px\"viewBox=\"0 0 24 24\"\n",
              "       width=\"24px\">\n",
              "    <path d=\"M0 0h24v24H0V0z\" fill=\"none\"/>\n",
              "    <path d=\"M18.56 5.44l.94 2.06.94-2.06 2.06-.94-2.06-.94-.94-2.06-.94 2.06-2.06.94zm-11 1L8.5 8.5l.94-2.06 2.06-.94-2.06-.94L8.5 2.5l-.94 2.06-2.06.94zm10 10l.94 2.06.94-2.06 2.06-.94-2.06-.94-.94-2.06-.94 2.06-2.06.94z\"/><path d=\"M17.41 7.96l-1.37-1.37c-.4-.4-.92-.59-1.43-.59-.52 0-1.04.2-1.43.59L10.3 9.45l-7.72 7.72c-.78.78-.78 2.05 0 2.83L4 21.41c.39.39.9.59 1.41.59.51 0 1.02-.2 1.41-.59l7.78-7.78 2.81-2.81c.8-.78.8-2.07 0-2.86zM5.41 20L4 18.59l7.72-7.72 1.47 1.35L5.41 20z\"/>\n",
              "  </svg>\n",
              "      </button>\n",
              "      \n",
              "  <style>\n",
              "    .colab-df-container {\n",
              "      display:flex;\n",
              "      flex-wrap:wrap;\n",
              "      gap: 12px;\n",
              "    }\n",
              "\n",
              "    .colab-df-convert {\n",
              "      background-color: #E8F0FE;\n",
              "      border: none;\n",
              "      border-radius: 50%;\n",
              "      cursor: pointer;\n",
              "      display: none;\n",
              "      fill: #1967D2;\n",
              "      height: 32px;\n",
              "      padding: 0 0 0 0;\n",
              "      width: 32px;\n",
              "    }\n",
              "\n",
              "    .colab-df-convert:hover {\n",
              "      background-color: #E2EBFA;\n",
              "      box-shadow: 0px 1px 2px rgba(60, 64, 67, 0.3), 0px 1px 3px 1px rgba(60, 64, 67, 0.15);\n",
              "      fill: #174EA6;\n",
              "    }\n",
              "\n",
              "    [theme=dark] .colab-df-convert {\n",
              "      background-color: #3B4455;\n",
              "      fill: #D2E3FC;\n",
              "    }\n",
              "\n",
              "    [theme=dark] .colab-df-convert:hover {\n",
              "      background-color: #434B5C;\n",
              "      box-shadow: 0px 1px 3px 1px rgba(0, 0, 0, 0.15);\n",
              "      filter: drop-shadow(0px 1px 2px rgba(0, 0, 0, 0.3));\n",
              "      fill: #FFFFFF;\n",
              "    }\n",
              "  </style>\n",
              "\n",
              "      <script>\n",
              "        const buttonEl =\n",
              "          document.querySelector('#df-371cce2f-7c58-4bc7-be79-8545b1b3e1b6 button.colab-df-convert');\n",
              "        buttonEl.style.display =\n",
              "          google.colab.kernel.accessAllowed ? 'block' : 'none';\n",
              "\n",
              "        async function convertToInteractive(key) {\n",
              "          const element = document.querySelector('#df-371cce2f-7c58-4bc7-be79-8545b1b3e1b6');\n",
              "          const dataTable =\n",
              "            await google.colab.kernel.invokeFunction('convertToInteractive',\n",
              "                                                     [key], {});\n",
              "          if (!dataTable) return;\n",
              "\n",
              "          const docLinkHtml = 'Like what you see? Visit the ' +\n",
              "            '<a target=\"_blank\" href=https://colab.research.google.com/notebooks/data_table.ipynb>data table notebook</a>'\n",
              "            + ' to learn more about interactive tables.';\n",
              "          element.innerHTML = '';\n",
              "          dataTable['output_type'] = 'display_data';\n",
              "          await google.colab.output.renderOutput(dataTable, element);\n",
              "          const docLink = document.createElement('div');\n",
              "          docLink.innerHTML = docLinkHtml;\n",
              "          element.appendChild(docLink);\n",
              "        }\n",
              "      </script>\n",
              "    </div>\n",
              "  </div>\n",
              "  "
            ]
          },
          "metadata": {},
          "execution_count": 134
        }
      ]
    },
    {
      "cell_type": "code",
      "source": [
        "print(traindata[\"Pclass\"].value_counts()/891*100)\n",
        "sns.countplot(traindata[\"Pclass\"])\n",
        "            "
      ],
      "metadata": {
        "colab": {
          "base_uri": "https://localhost:8080/",
          "height": 420
        },
        "id": "6aAX43ek2Z2a",
        "outputId": "e03c6539-4f3e-4214-f764-d6c9a0239dfb"
      },
      "execution_count": 91,
      "outputs": [
        {
          "output_type": "stream",
          "name": "stdout",
          "text": [
            "3    55.106622\n",
            "1    24.242424\n",
            "2    20.650954\n",
            "Name: Pclass, dtype: float64\n"
          ]
        },
        {
          "output_type": "stream",
          "name": "stderr",
          "text": [
            "/usr/local/lib/python3.7/dist-packages/seaborn/_decorators.py:43: FutureWarning: Pass the following variable as a keyword arg: x. From version 0.12, the only valid positional argument will be `data`, and passing other arguments without an explicit keyword will result in an error or misinterpretation.\n",
            "  FutureWarning\n"
          ]
        },
        {
          "output_type": "execute_result",
          "data": {
            "text/plain": [
              "<matplotlib.axes._subplots.AxesSubplot at 0x7fabf58fe690>"
            ]
          },
          "metadata": {},
          "execution_count": 91
        },
        {
          "output_type": "display_data",
          "data": {
            "text/plain": [
              "<Figure size 432x288 with 1 Axes>"
            ],
            "image/png": "[encoded data removed]"
          },
          "metadata": {
            "needs_background": "light"
          }
        }
      ]
    },
    {
      "cell_type": "code",
      "source": [
        "print(traindata[\"Embarked\"].value_counts()/891*100)\n",
        "sns.countplot(traindata[\"Embarked\"])\n",
        "#without handling nulls"
      ],
      "metadata": {
        "colab": {
          "base_uri": "https://localhost:8080/",
          "height": 420
        },
        "id": "oV667Ddy6gQj",
        "outputId": "71be703e-ccf3-4788-e5ac-b0d168c003d1"
      },
      "execution_count": 92,
      "outputs": [
        {
          "output_type": "stream",
          "name": "stdout",
          "text": [
            "S    72.278339\n",
            "C    18.855219\n",
            "Q     8.641975\n",
            "Name: Embarked, dtype: float64\n"
          ]
        },
        {
          "output_type": "stream",
          "name": "stderr",
          "text": [
            "/usr/local/lib/python3.7/dist-packages/seaborn/_decorators.py:43: FutureWarning: Pass the following variable as a keyword arg: x. From version 0.12, the only valid positional argument will be `data`, and passing other arguments without an explicit keyword will result in an error or misinterpretation.\n",
            "  FutureWarning\n"
          ]
        },
        {
          "output_type": "execute_result",
          "data": {
            "text/plain": [
              "<matplotlib.axes._subplots.AxesSubplot at 0x7fabf5877090>"
            ]
          },
          "metadata": {},
          "execution_count": 92
        },
        {
          "output_type": "display_data",
          "data": {
            "text/plain": [
              "<Figure size 432x288 with 1 Axes>"
            ],
            "image/png": "[encoded data removed]"
          },
          "metadata": {
            "needs_background": "light"
          }
        }
      ]
    },
    {
      "cell_type": "code",
      "source": [
        "sns.histplot(traindata[traindata[\"Survived\"]==0][\"Age\"],color=\"yellow\",kde=True)\n",
        "sns.histplot(traindata[traindata[\"Survived\"]==1][\"Age\"],color=\"Blue\",kde=True)"
      ],
      "metadata": {
        "colab": {
          "base_uri": "https://localhost:8080/",
          "height": 296
        },
        "id": "1V9JGWbqMddR",
        "outputId": "e01a9554-ad17-4763-dc36-9bd116e1fe4c"
      },
      "execution_count": 135,
      "outputs": [
        {
          "output_type": "execute_result",
          "data": {
            "text/plain": [
              "<matplotlib.axes._subplots.AxesSubplot at 0x7fabea940150>"
            ]
          },
          "metadata": {},
          "execution_count": 135
        },
        {
          "output_type": "display_data",
          "data": {
            "text/plain": [
              "<Figure size 432x288 with 1 Axes>"
            ],
            "image/png": "[encoded data removed]"
          },
          "metadata": {
            "needs_background": "light"
          }
        }
      ]
    },
    {
      "cell_type": "code",
      "source": [
        "sns.boxplot(traindata[\"Fare\"])\n"
      ],
      "metadata": {
        "colab": {
          "base_uri": "https://localhost:8080/",
          "height": 351
        },
        "id": "nGJjwUNCCILR",
        "outputId": "1ca26837-4e24-41f6-85c8-e65ff0066f16"
      },
      "execution_count": 141,
      "outputs": [
        {
          "output_type": "stream",
          "name": "stderr",
          "text": [
            "/usr/local/lib/python3.7/dist-packages/seaborn/_decorators.py:43: FutureWarning: Pass the following variable as a keyword arg: x. From version 0.12, the only valid positional argument will be `data`, and passing other arguments without an explicit keyword will result in an error or misinterpretation.\n",
            "  FutureWarning\n"
          ]
        },
        {
          "output_type": "execute_result",
          "data": {
            "text/plain": [
              "<matplotlib.axes._subplots.AxesSubplot at 0x7fabea70a650>"
            ]
          },
          "metadata": {},
          "execution_count": 141
        },
        {
          "output_type": "display_data",
          "data": {
            "text/plain": [
              "<Figure size 432x288 with 1 Axes>"
            ],
            "image/png": "[encoded data removed]"
          },
          "metadata": {
            "needs_background": "light"
          }
        }
      ]
    },
    {
      "cell_type": "code",
      "source": [
        "fareanalysis=  print(\" Number of passengers  with the Fare in betbeen 100 to 300 are: \" \n",
        "      + str(traindata[(traindata[\"Fare\"]>=100) & (traindata[\"Fare\"]<=300)].shape[0]))"
      ],
      "metadata": {
        "colab": {
          "base_uri": "https://localhost:8080/"
        },
        "id": "2C7NE4a_VC8k",
        "outputId": "56169687-e59e-43fb-fc6e-23d0ad6bc93e"
      },
      "execution_count": 143,
      "outputs": [
        {
          "output_type": "stream",
          "name": "stdout",
          "text": [
            " Number of passengers  with the Fare in betbeen 100 to 300 are: 50\n"
          ]
        }
      ]
    },
    {
      "cell_type": "code",
      "source": [
        "sns.histplot(traindata[traindata[\"Survived\"]==0][\"Fare\"],color=\"blue\",kde=True)\n",
        "sns.histplot(traindata[traindata[\"Survived\"]==1][\"Fare\"],color=\"green\",kde=True)"
      ],
      "metadata": {
        "colab": {
          "base_uri": "https://localhost:8080/",
          "height": 296
        },
        "id": "pWvAlXMEWZjY",
        "outputId": "6c114416-1089-4b31-a9dc-b3859ff2496c"
      },
      "execution_count": 148,
      "outputs": [
        {
          "output_type": "execute_result",
          "data": {
            "text/plain": [
              "<matplotlib.axes._subplots.AxesSubplot at 0x7fabea4fa590>"
            ]
          },
          "metadata": {},
          "execution_count": 148
        },
        {
          "output_type": "display_data",
          "data": {
            "text/plain": [
              "<Figure size 432x288 with 1 Axes>"
            ],
            "image/png": "[encoded data removed]"
          },
          "metadata": {
            "needs_background": "light"
          }
        }
      ]
    },
    {
      "cell_type": "code",
      "source": [
        "traindata=traindata[traindata[\"Age\"]<(traindata[\"Age\"].mean() +3*traindata[\"Age\"].std() )]\n",
        "traindata.shape"
      ],
      "metadata": {
        "colab": {
          "base_uri": "https://localhost:8080/"
        },
        "id": "oKvIy0mGib2c",
        "outputId": "f940c9ec-ce22-4f52-9adf-6a5d686ebf7f"
      },
      "execution_count": 149,
      "outputs": [
        {
          "output_type": "execute_result",
          "data": {
            "text/plain": [
              "(884, 11)"
            ]
          },
          "metadata": {},
          "execution_count": 149
        }
      ]
    },
    {
      "cell_type": "code",
      "source": [
        "q1 = np.percentile(traindata[\"Fare\"],25)\n",
        "q3 = np.percentile(traindata[\"Fare\"],75)"
      ],
      "metadata": {
        "id": "-BebQ37KkRT3"
      },
      "execution_count": 150,
      "outputs": []
    },
    {
      "cell_type": "code",
      "source": [
        "outlier_low = -1.5*(q3-q1)\n",
        "outlier_high= 1.5*(q3-q1)"
      ],
      "metadata": {
        "id": "TPfwKZaClJfS"
      },
      "execution_count": 151,
      "outputs": []
    },
    {
      "cell_type": "code",
      "source": [
        "traindata=traindata[(traindata[\"Fare\"] > outlier_low ) & (traindata[\"Fare\"]<outlier_high)]\n",
        "traindata.shape"
      ],
      "metadata": {
        "colab": {
          "base_uri": "https://localhost:8080/"
        },
        "id": "yg4IkDYplLkx",
        "outputId": "3b1f2a9f-aac7-48cd-d4cd-aaf73ac73d3c"
      },
      "execution_count": 152,
      "outputs": [
        {
          "output_type": "execute_result",
          "data": {
            "text/plain": [
              "(687, 11)"
            ]
          },
          "metadata": {},
          "execution_count": 152
        }
      ]
    }
  ]
}